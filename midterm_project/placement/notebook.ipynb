{
 "cells": [
  {
   "cell_type": "markdown",
   "source": [
    "### Engineering Placements Prediction\n",
    "### Predict Final Year Engineering College Placements\n",
    "\n",
    "A University Announced Its On-Campus Placement Records For The Engineering Course. The Data Is From The Years 2013 And 2014.\n",
    "The Following Is The College Placements Data Compiled Over 2 years. **Use This Data To Predict And Analyse Whether A Student Gets Placed**, Based On His/Her Background.\n",
    "Perform Extensive EDAs And Bring Out Insights.\n",
    "Build classification model using various ML techniques\n",
    "##### Kaggle URL: https://www.kaggle.com/tejashvi14/engineering-placements-prediction?select=collegePlace.csv\n",
    "##### Dataset: kaggle datasets download -d tejashvi14/engineering-placements-prediction"
   ],
   "metadata": {}
  },
  {
   "cell_type": "code",
   "execution_count": 8,
   "source": [
    "# importing basic packages\r\n",
    "import pandas as pd\r\n",
    "import numpy as np"
   ],
   "outputs": [],
   "metadata": {}
  },
  {
   "cell_type": "code",
   "execution_count": 9,
   "source": [
    "# Reading data\r\n",
    "df = pd.read_csv('data.csv')\r\n",
    "df.head().T"
   ],
   "outputs": [
    {
     "output_type": "execute_result",
     "data": {
      "text/plain": [
       "                                               0                 1  \\\n",
       "Age                                           22                21   \n",
       "Gender                                      Male            Female   \n",
       "Stream             Electronics And Communication  Computer Science   \n",
       "Internships                                    1                 0   \n",
       "CGPA                                           8                 7   \n",
       "Hostel                                         1                 1   \n",
       "HistoryOfBacklogs                              1                 1   \n",
       "PlacedOrNot                                    1                 1   \n",
       "\n",
       "                                        2                       3           4  \n",
       "Age                                    22                      21          22  \n",
       "Gender                             Female                    Male        Male  \n",
       "Stream             Information Technology  Information Technology  Mechanical  \n",
       "Internships                             1                       0           0  \n",
       "CGPA                                    6                       8           8  \n",
       "Hostel                                  0                       0           1  \n",
       "HistoryOfBacklogs                       0                       1           0  \n",
       "PlacedOrNot                             1                       1           1  "
      ],
      "text/html": [
       "<div>\n",
       "<style scoped>\n",
       "    .dataframe tbody tr th:only-of-type {\n",
       "        vertical-align: middle;\n",
       "    }\n",
       "\n",
       "    .dataframe tbody tr th {\n",
       "        vertical-align: top;\n",
       "    }\n",
       "\n",
       "    .dataframe thead th {\n",
       "        text-align: right;\n",
       "    }\n",
       "</style>\n",
       "<table border=\"1\" class=\"dataframe\">\n",
       "  <thead>\n",
       "    <tr style=\"text-align: right;\">\n",
       "      <th></th>\n",
       "      <th>0</th>\n",
       "      <th>1</th>\n",
       "      <th>2</th>\n",
       "      <th>3</th>\n",
       "      <th>4</th>\n",
       "    </tr>\n",
       "  </thead>\n",
       "  <tbody>\n",
       "    <tr>\n",
       "      <th>Age</th>\n",
       "      <td>22</td>\n",
       "      <td>21</td>\n",
       "      <td>22</td>\n",
       "      <td>21</td>\n",
       "      <td>22</td>\n",
       "    </tr>\n",
       "    <tr>\n",
       "      <th>Gender</th>\n",
       "      <td>Male</td>\n",
       "      <td>Female</td>\n",
       "      <td>Female</td>\n",
       "      <td>Male</td>\n",
       "      <td>Male</td>\n",
       "    </tr>\n",
       "    <tr>\n",
       "      <th>Stream</th>\n",
       "      <td>Electronics And Communication</td>\n",
       "      <td>Computer Science</td>\n",
       "      <td>Information Technology</td>\n",
       "      <td>Information Technology</td>\n",
       "      <td>Mechanical</td>\n",
       "    </tr>\n",
       "    <tr>\n",
       "      <th>Internships</th>\n",
       "      <td>1</td>\n",
       "      <td>0</td>\n",
       "      <td>1</td>\n",
       "      <td>0</td>\n",
       "      <td>0</td>\n",
       "    </tr>\n",
       "    <tr>\n",
       "      <th>CGPA</th>\n",
       "      <td>8</td>\n",
       "      <td>7</td>\n",
       "      <td>6</td>\n",
       "      <td>8</td>\n",
       "      <td>8</td>\n",
       "    </tr>\n",
       "    <tr>\n",
       "      <th>Hostel</th>\n",
       "      <td>1</td>\n",
       "      <td>1</td>\n",
       "      <td>0</td>\n",
       "      <td>0</td>\n",
       "      <td>1</td>\n",
       "    </tr>\n",
       "    <tr>\n",
       "      <th>HistoryOfBacklogs</th>\n",
       "      <td>1</td>\n",
       "      <td>1</td>\n",
       "      <td>0</td>\n",
       "      <td>1</td>\n",
       "      <td>0</td>\n",
       "    </tr>\n",
       "    <tr>\n",
       "      <th>PlacedOrNot</th>\n",
       "      <td>1</td>\n",
       "      <td>1</td>\n",
       "      <td>1</td>\n",
       "      <td>1</td>\n",
       "      <td>1</td>\n",
       "    </tr>\n",
       "  </tbody>\n",
       "</table>\n",
       "</div>"
      ]
     },
     "metadata": {},
     "execution_count": 9
    }
   ],
   "metadata": {}
  },
  {
   "cell_type": "markdown",
   "source": [
    "## Data preparation"
   ],
   "metadata": {}
  },
  {
   "cell_type": "code",
   "execution_count": 10,
   "source": [
    "# Make column names to lower and replace space with underscore if any\r\n",
    "df.columns = df.columns.str.lower().str.replace(' ', '_')"
   ],
   "outputs": [],
   "metadata": {}
  },
  {
   "cell_type": "code",
   "execution_count": 12,
   "source": [
    "# Display first 5 records and transpose for better readability\r\n",
    "df.head().T"
   ],
   "outputs": [
    {
     "output_type": "execute_result",
     "data": {
      "text/plain": [
       "                                               0                 1  \\\n",
       "age                                           22                21   \n",
       "gender                                      Male            Female   \n",
       "stream             Electronics And Communication  Computer Science   \n",
       "internships                                    1                 0   \n",
       "cgpa                                           8                 7   \n",
       "hostel                                         1                 1   \n",
       "historyofbacklogs                              1                 1   \n",
       "placedornot                                    1                 1   \n",
       "\n",
       "                                        2                       3           4  \n",
       "age                                    22                      21          22  \n",
       "gender                             Female                    Male        Male  \n",
       "stream             Information Technology  Information Technology  Mechanical  \n",
       "internships                             1                       0           0  \n",
       "cgpa                                    6                       8           8  \n",
       "hostel                                  0                       0           1  \n",
       "historyofbacklogs                       0                       1           0  \n",
       "placedornot                             1                       1           1  "
      ],
      "text/html": [
       "<div>\n",
       "<style scoped>\n",
       "    .dataframe tbody tr th:only-of-type {\n",
       "        vertical-align: middle;\n",
       "    }\n",
       "\n",
       "    .dataframe tbody tr th {\n",
       "        vertical-align: top;\n",
       "    }\n",
       "\n",
       "    .dataframe thead th {\n",
       "        text-align: right;\n",
       "    }\n",
       "</style>\n",
       "<table border=\"1\" class=\"dataframe\">\n",
       "  <thead>\n",
       "    <tr style=\"text-align: right;\">\n",
       "      <th></th>\n",
       "      <th>0</th>\n",
       "      <th>1</th>\n",
       "      <th>2</th>\n",
       "      <th>3</th>\n",
       "      <th>4</th>\n",
       "    </tr>\n",
       "  </thead>\n",
       "  <tbody>\n",
       "    <tr>\n",
       "      <th>age</th>\n",
       "      <td>22</td>\n",
       "      <td>21</td>\n",
       "      <td>22</td>\n",
       "      <td>21</td>\n",
       "      <td>22</td>\n",
       "    </tr>\n",
       "    <tr>\n",
       "      <th>gender</th>\n",
       "      <td>Male</td>\n",
       "      <td>Female</td>\n",
       "      <td>Female</td>\n",
       "      <td>Male</td>\n",
       "      <td>Male</td>\n",
       "    </tr>\n",
       "    <tr>\n",
       "      <th>stream</th>\n",
       "      <td>Electronics And Communication</td>\n",
       "      <td>Computer Science</td>\n",
       "      <td>Information Technology</td>\n",
       "      <td>Information Technology</td>\n",
       "      <td>Mechanical</td>\n",
       "    </tr>\n",
       "    <tr>\n",
       "      <th>internships</th>\n",
       "      <td>1</td>\n",
       "      <td>0</td>\n",
       "      <td>1</td>\n",
       "      <td>0</td>\n",
       "      <td>0</td>\n",
       "    </tr>\n",
       "    <tr>\n",
       "      <th>cgpa</th>\n",
       "      <td>8</td>\n",
       "      <td>7</td>\n",
       "      <td>6</td>\n",
       "      <td>8</td>\n",
       "      <td>8</td>\n",
       "    </tr>\n",
       "    <tr>\n",
       "      <th>hostel</th>\n",
       "      <td>1</td>\n",
       "      <td>1</td>\n",
       "      <td>0</td>\n",
       "      <td>0</td>\n",
       "      <td>1</td>\n",
       "    </tr>\n",
       "    <tr>\n",
       "      <th>historyofbacklogs</th>\n",
       "      <td>1</td>\n",
       "      <td>1</td>\n",
       "      <td>0</td>\n",
       "      <td>1</td>\n",
       "      <td>0</td>\n",
       "    </tr>\n",
       "    <tr>\n",
       "      <th>placedornot</th>\n",
       "      <td>1</td>\n",
       "      <td>1</td>\n",
       "      <td>1</td>\n",
       "      <td>1</td>\n",
       "      <td>1</td>\n",
       "    </tr>\n",
       "  </tbody>\n",
       "</table>\n",
       "</div>"
      ]
     },
     "metadata": {},
     "execution_count": 12
    }
   ],
   "metadata": {}
  },
  {
   "cell_type": "code",
   "execution_count": 13,
   "source": [
    "# Create a list of categorical variables\r\n",
    "categorical_variables = list(df.dtypes[df.dtypes == 'object'].index)\r\n",
    "categorical_variables"
   ],
   "outputs": [
    {
     "output_type": "execute_result",
     "data": {
      "text/plain": [
       "['gender', 'stream']"
      ]
     },
     "metadata": {},
     "execution_count": 13
    }
   ],
   "metadata": {}
  },
  {
   "cell_type": "code",
   "execution_count": 14,
   "source": [
    "# Make values in a categorical variables to lower and repalce space with underscore if any\r\n",
    "for col in categorical_variables:\r\n",
    "    df[col] = df[col].str.lower().str.replace(' ', '_')"
   ],
   "outputs": [],
   "metadata": {}
  },
  {
   "cell_type": "code",
   "execution_count": 15,
   "source": [
    "# Display first 5 records and transpose for better readability\r\n",
    "df.head().T"
   ],
   "outputs": [
    {
     "output_type": "execute_result",
     "data": {
      "text/plain": [
       "                                               0                 1  \\\n",
       "age                                           22                21   \n",
       "gender                                      male            female   \n",
       "stream             electronics_and_communication  computer_science   \n",
       "internships                                    1                 0   \n",
       "cgpa                                           8                 7   \n",
       "hostel                                         1                 1   \n",
       "historyofbacklogs                              1                 1   \n",
       "placedornot                                    1                 1   \n",
       "\n",
       "                                        2                       3           4  \n",
       "age                                    22                      21          22  \n",
       "gender                             female                    male        male  \n",
       "stream             information_technology  information_technology  mechanical  \n",
       "internships                             1                       0           0  \n",
       "cgpa                                    6                       8           8  \n",
       "hostel                                  0                       0           1  \n",
       "historyofbacklogs                       0                       1           0  \n",
       "placedornot                             1                       1           1  "
      ],
      "text/html": [
       "<div>\n",
       "<style scoped>\n",
       "    .dataframe tbody tr th:only-of-type {\n",
       "        vertical-align: middle;\n",
       "    }\n",
       "\n",
       "    .dataframe tbody tr th {\n",
       "        vertical-align: top;\n",
       "    }\n",
       "\n",
       "    .dataframe thead th {\n",
       "        text-align: right;\n",
       "    }\n",
       "</style>\n",
       "<table border=\"1\" class=\"dataframe\">\n",
       "  <thead>\n",
       "    <tr style=\"text-align: right;\">\n",
       "      <th></th>\n",
       "      <th>0</th>\n",
       "      <th>1</th>\n",
       "      <th>2</th>\n",
       "      <th>3</th>\n",
       "      <th>4</th>\n",
       "    </tr>\n",
       "  </thead>\n",
       "  <tbody>\n",
       "    <tr>\n",
       "      <th>age</th>\n",
       "      <td>22</td>\n",
       "      <td>21</td>\n",
       "      <td>22</td>\n",
       "      <td>21</td>\n",
       "      <td>22</td>\n",
       "    </tr>\n",
       "    <tr>\n",
       "      <th>gender</th>\n",
       "      <td>male</td>\n",
       "      <td>female</td>\n",
       "      <td>female</td>\n",
       "      <td>male</td>\n",
       "      <td>male</td>\n",
       "    </tr>\n",
       "    <tr>\n",
       "      <th>stream</th>\n",
       "      <td>electronics_and_communication</td>\n",
       "      <td>computer_science</td>\n",
       "      <td>information_technology</td>\n",
       "      <td>information_technology</td>\n",
       "      <td>mechanical</td>\n",
       "    </tr>\n",
       "    <tr>\n",
       "      <th>internships</th>\n",
       "      <td>1</td>\n",
       "      <td>0</td>\n",
       "      <td>1</td>\n",
       "      <td>0</td>\n",
       "      <td>0</td>\n",
       "    </tr>\n",
       "    <tr>\n",
       "      <th>cgpa</th>\n",
       "      <td>8</td>\n",
       "      <td>7</td>\n",
       "      <td>6</td>\n",
       "      <td>8</td>\n",
       "      <td>8</td>\n",
       "    </tr>\n",
       "    <tr>\n",
       "      <th>hostel</th>\n",
       "      <td>1</td>\n",
       "      <td>1</td>\n",
       "      <td>0</td>\n",
       "      <td>0</td>\n",
       "      <td>1</td>\n",
       "    </tr>\n",
       "    <tr>\n",
       "      <th>historyofbacklogs</th>\n",
       "      <td>1</td>\n",
       "      <td>1</td>\n",
       "      <td>0</td>\n",
       "      <td>1</td>\n",
       "      <td>0</td>\n",
       "    </tr>\n",
       "    <tr>\n",
       "      <th>placedornot</th>\n",
       "      <td>1</td>\n",
       "      <td>1</td>\n",
       "      <td>1</td>\n",
       "      <td>1</td>\n",
       "      <td>1</td>\n",
       "    </tr>\n",
       "  </tbody>\n",
       "</table>\n",
       "</div>"
      ]
     },
     "metadata": {},
     "execution_count": 15
    }
   ],
   "metadata": {}
  },
  {
   "cell_type": "code",
   "execution_count": 18,
   "source": [
    "# Descriptive statistics\r\n",
    "# Check count measure to detect if there is any missing values - **No missing values detected**\r\n",
    "# Check max to see any abnormal values - **No abnormal values detected**\r\n",
    "df.describe()"
   ],
   "outputs": [
    {
     "output_type": "execute_result",
     "data": {
      "text/plain": [
       "               age  internships         cgpa       hostel  historyofbacklogs  \\\n",
       "count  2966.000000  2966.000000  2966.000000  2966.000000        2966.000000   \n",
       "mean     21.485840     0.703641     7.073837     0.269049           0.192178   \n",
       "std       1.324933     0.740197     0.967748     0.443540           0.394079   \n",
       "min      19.000000     0.000000     5.000000     0.000000           0.000000   \n",
       "25%      21.000000     0.000000     6.000000     0.000000           0.000000   \n",
       "50%      21.000000     1.000000     7.000000     0.000000           0.000000   \n",
       "75%      22.000000     1.000000     8.000000     1.000000           0.000000   \n",
       "max      30.000000     3.000000     9.000000     1.000000           1.000000   \n",
       "\n",
       "       placedornot  \n",
       "count  2966.000000  \n",
       "mean      0.552596  \n",
       "std       0.497310  \n",
       "min       0.000000  \n",
       "25%       0.000000  \n",
       "50%       1.000000  \n",
       "75%       1.000000  \n",
       "max       1.000000  "
      ],
      "text/html": [
       "<div>\n",
       "<style scoped>\n",
       "    .dataframe tbody tr th:only-of-type {\n",
       "        vertical-align: middle;\n",
       "    }\n",
       "\n",
       "    .dataframe tbody tr th {\n",
       "        vertical-align: top;\n",
       "    }\n",
       "\n",
       "    .dataframe thead th {\n",
       "        text-align: right;\n",
       "    }\n",
       "</style>\n",
       "<table border=\"1\" class=\"dataframe\">\n",
       "  <thead>\n",
       "    <tr style=\"text-align: right;\">\n",
       "      <th></th>\n",
       "      <th>age</th>\n",
       "      <th>internships</th>\n",
       "      <th>cgpa</th>\n",
       "      <th>hostel</th>\n",
       "      <th>historyofbacklogs</th>\n",
       "      <th>placedornot</th>\n",
       "    </tr>\n",
       "  </thead>\n",
       "  <tbody>\n",
       "    <tr>\n",
       "      <th>count</th>\n",
       "      <td>2966.000000</td>\n",
       "      <td>2966.000000</td>\n",
       "      <td>2966.000000</td>\n",
       "      <td>2966.000000</td>\n",
       "      <td>2966.000000</td>\n",
       "      <td>2966.000000</td>\n",
       "    </tr>\n",
       "    <tr>\n",
       "      <th>mean</th>\n",
       "      <td>21.485840</td>\n",
       "      <td>0.703641</td>\n",
       "      <td>7.073837</td>\n",
       "      <td>0.269049</td>\n",
       "      <td>0.192178</td>\n",
       "      <td>0.552596</td>\n",
       "    </tr>\n",
       "    <tr>\n",
       "      <th>std</th>\n",
       "      <td>1.324933</td>\n",
       "      <td>0.740197</td>\n",
       "      <td>0.967748</td>\n",
       "      <td>0.443540</td>\n",
       "      <td>0.394079</td>\n",
       "      <td>0.497310</td>\n",
       "    </tr>\n",
       "    <tr>\n",
       "      <th>min</th>\n",
       "      <td>19.000000</td>\n",
       "      <td>0.000000</td>\n",
       "      <td>5.000000</td>\n",
       "      <td>0.000000</td>\n",
       "      <td>0.000000</td>\n",
       "      <td>0.000000</td>\n",
       "    </tr>\n",
       "    <tr>\n",
       "      <th>25%</th>\n",
       "      <td>21.000000</td>\n",
       "      <td>0.000000</td>\n",
       "      <td>6.000000</td>\n",
       "      <td>0.000000</td>\n",
       "      <td>0.000000</td>\n",
       "      <td>0.000000</td>\n",
       "    </tr>\n",
       "    <tr>\n",
       "      <th>50%</th>\n",
       "      <td>21.000000</td>\n",
       "      <td>1.000000</td>\n",
       "      <td>7.000000</td>\n",
       "      <td>0.000000</td>\n",
       "      <td>0.000000</td>\n",
       "      <td>1.000000</td>\n",
       "    </tr>\n",
       "    <tr>\n",
       "      <th>75%</th>\n",
       "      <td>22.000000</td>\n",
       "      <td>1.000000</td>\n",
       "      <td>8.000000</td>\n",
       "      <td>1.000000</td>\n",
       "      <td>0.000000</td>\n",
       "      <td>1.000000</td>\n",
       "    </tr>\n",
       "    <tr>\n",
       "      <th>max</th>\n",
       "      <td>30.000000</td>\n",
       "      <td>3.000000</td>\n",
       "      <td>9.000000</td>\n",
       "      <td>1.000000</td>\n",
       "      <td>1.000000</td>\n",
       "      <td>1.000000</td>\n",
       "    </tr>\n",
       "  </tbody>\n",
       "</table>\n",
       "</div>"
      ]
     },
     "metadata": {},
     "execution_count": 18
    }
   ],
   "metadata": {}
  },
  {
   "cell_type": "markdown",
   "source": [
    "## Exploratory Data Analysis"
   ],
   "metadata": {}
  },
  {
   "cell_type": "code",
   "execution_count": 19,
   "source": [
    "# import matplot and seaborn viusalization libraries\r\n",
    "import matplotlib.pyplot as plt\r\n",
    "import seaborn as sns\r\n",
    "\r\n",
    "%matplotlib inline"
   ],
   "outputs": [],
   "metadata": {}
  },
  {
   "cell_type": "code",
   "execution_count": 21,
   "source": [
    "# Plot pairwise relationships in a dataset.\r\n",
    "sns.pairplot(df)"
   ],
   "outputs": [
    {
     "output_type": "execute_result",
     "data": {
      "text/plain": [
       "<seaborn.axisgrid.PairGrid at 0x1bd97be7e08>"
      ]
     },
     "metadata": {},
     "execution_count": 21
    },
    {
     "output_type": "display_data",
     "data": {
      "text/plain": [
       "<Figure size 1080x1080 with 42 Axes>"
      ],
      "image/png": "[encoded data removed]"
     },
     "metadata": {
      "needs_background": "light"
     }
    }
   ],
   "metadata": {}
  },
  {
   "cell_type": "code",
   "execution_count": 51,
   "source": [
    "# age histogram\r\n",
    "sns.histplot(df['age'], binwidth=1)"
   ],
   "outputs": [
    {
     "output_type": "execute_result",
     "data": {
      "text/plain": [
       "<AxesSubplot:xlabel='age', ylabel='Count'>"
      ]
     },
     "metadata": {},
     "execution_count": 51
    },
    {
     "output_type": "display_data",
     "data": {
      "text/plain": [
       "<Figure size 432x288 with 1 Axes>"
      ],
      "image/png": "[encoded data removed]"
     },
     "metadata": {
      "needs_background": "light"
     }
    }
   ],
   "metadata": {}
  },
  {
   "cell_type": "code",
   "execution_count": 49,
   "source": [
    "# internships distribution\r\n",
    "sns.histplot(df['internships'])"
   ],
   "outputs": [
    {
     "output_type": "execute_result",
     "data": {
      "text/plain": [
       "<AxesSubplot:xlabel='internships', ylabel='Count'>"
      ]
     },
     "metadata": {},
     "execution_count": 49
    },
    {
     "output_type": "display_data",
     "data": {
      "text/plain": [
       "<Figure size 432x288 with 1 Axes>"
      ],
      "image/png": "[encoded data removed]"
     },
     "metadata": {
      "needs_background": "light"
     }
    }
   ],
   "metadata": {}
  },
  {
   "cell_type": "code",
   "execution_count": 62,
   "source": [
    "# fig = plt.figure(figsize=(5, 5))\r\n",
    "# cgpa distribution\r\n",
    "sns.histplot(df['cgpa'], binwidth=0.5)\r\n",
    "df['cgpa'].value_counts()"
   ],
   "outputs": [
    {
     "output_type": "execute_result",
     "data": {
      "text/plain": [
       "7    956\n",
       "8    915\n",
       "6    834\n",
       "9    165\n",
       "5     96\n",
       "Name: cgpa, dtype: int64"
      ]
     },
     "metadata": {},
     "execution_count": 62
    },
    {
     "output_type": "display_data",
     "data": {
      "text/plain": [
       "<Figure size 432x288 with 1 Axes>"
      ],
      "image/png": "[encoded data removed]"
     },
     "metadata": {
      "needs_background": "light"
     }
    }
   ],
   "metadata": {}
  },
  {
   "cell_type": "code",
   "execution_count": 81,
   "source": [
    "# hostel distribution\r\n",
    "plt.pie(df['hostel'].value_counts(), labels=df['hostel'].value_counts().index)\r\n",
    "df['hostel'].value_counts(normalize=True)"
   ],
   "outputs": [
    {
     "output_type": "execute_result",
     "data": {
      "text/plain": [
       "0    0.730951\n",
       "1    0.269049\n",
       "Name: hostel, dtype: float64"
      ]
     },
     "metadata": {},
     "execution_count": 81
    },
    {
     "output_type": "display_data",
     "data": {
      "text/plain": [
       "<Figure size 432x288 with 1 Axes>"
      ],
      "image/png": "[encoded data removed]"
     },
     "metadata": {}
    }
   ],
   "metadata": {}
  },
  {
   "cell_type": "code",
   "execution_count": 80,
   "source": [
    "# historyofbacklogs distribution\r\n",
    "plt.pie(df['historyofbacklogs'].value_counts(), labels=df['historyofbacklogs'].value_counts().index)\r\n",
    "df['historyofbacklogs'].value_counts(normalize=True)"
   ],
   "outputs": [
    {
     "output_type": "execute_result",
     "data": {
      "text/plain": [
       "0    0.807822\n",
       "1    0.192178\n",
       "Name: historyofbacklogs, dtype: float64"
      ]
     },
     "metadata": {},
     "execution_count": 80
    },
    {
     "output_type": "display_data",
     "data": {
      "text/plain": [
       "<Figure size 432x288 with 1 Axes>"
      ],
      "image/png": "[encoded data removed]"
     },
     "metadata": {}
    }
   ],
   "metadata": {}
  },
  {
   "cell_type": "code",
   "execution_count": 83,
   "source": [
    "# placedornot distribution\r\n",
    "plt.pie(df['placedornot'].value_counts(), labels=df['placedornot'].value_counts().index)\r\n",
    "df['placedornot'].value_counts(normalize=True)"
   ],
   "outputs": [
    {
     "output_type": "execute_result",
     "data": {
      "text/plain": [
       "1    0.552596\n",
       "0    0.447404\n",
       "Name: placedornot, dtype: float64"
      ]
     },
     "metadata": {},
     "execution_count": 83
    },
    {
     "output_type": "display_data",
     "data": {
      "text/plain": [
       "<Figure size 432x288 with 1 Axes>"
      ],
      "image/png": "[encoded data removed]"
     },
     "metadata": {}
    }
   ],
   "metadata": {}
  },
  {
   "cell_type": "markdown",
   "source": [
    "## Setting up the validation framework"
   ],
   "metadata": {}
  },
  {
   "cell_type": "code",
   "execution_count": 85,
   "source": [
    "from sklearn.model_selection import train_test_split"
   ],
   "outputs": [],
   "metadata": {}
  },
  {
   "cell_type": "code",
   "execution_count": 87,
   "source": [
    "#splitting train, val, test set\r\n",
    "df_full_train, df_test = train_test_split(df, test_size=0.2, random_state=1)\r\n",
    "df_train, df_val = train_test_split(df_full_train, test_size=0.25, random_state=1)\r\n",
    "\r\n",
    "df_train = df_train.reset_index(drop=True)\r\n",
    "df_val = df_val.reset_index(drop=True)\r\n",
    "df_test = df_test.reset_index(drop=True)\r\n",
    "\r\n",
    "y_train = df_train.placedornot.values\r\n",
    "y_val = df_val.placedornot.values\r\n",
    "y_test = df_test.placedornot.values\r\n",
    "\r\n",
    "del df_train['placedornot']\r\n",
    "del df_val['placedornot']\r\n",
    "del df_test['placedornot']\r\n",
    "\r\n",
    "len(df_train), len(df_val), len(df_test)"
   ],
   "outputs": [
    {
     "output_type": "execute_result",
     "data": {
      "text/plain": [
       "(1779, 593, 594)"
      ]
     },
     "metadata": {},
     "execution_count": 87
    }
   ],
   "metadata": {}
  },
  {
   "cell_type": "code",
   "execution_count": 88,
   "source": [
    "# ratio of female students placed\r\n",
    "placed_female = df_full_train[df_full_train.gender == 'female'].placedornot.mean()\r\n",
    "placed_female"
   ],
   "outputs": [
    {
     "output_type": "execute_result",
     "data": {
      "text/plain": [
       "0.5607235142118863"
      ]
     },
     "metadata": {},
     "execution_count": 88
    }
   ],
   "metadata": {}
  },
  {
   "cell_type": "code",
   "execution_count": 90,
   "source": [
    "# ratio of male students placed\r\n",
    "placed_male = df_full_train[df_full_train.gender == 'male'].placedornot.mean()\r\n",
    "placed_male"
   ],
   "outputs": [
    {
     "output_type": "execute_result",
     "data": {
      "text/plain": [
       "0.5496221662468513"
      ]
     },
     "metadata": {},
     "execution_count": 90
    }
   ],
   "metadata": {}
  },
  {
   "cell_type": "code",
   "execution_count": 91,
   "source": [
    "# ratio of overall placed\r\n",
    "global_placed = df_full_train.placedornot.mean()\r\n",
    "global_placed"
   ],
   "outputs": [
    {
     "output_type": "execute_result",
     "data": {
      "text/plain": [
       "0.551433389544688"
      ]
     },
     "metadata": {},
     "execution_count": 91
    }
   ],
   "metadata": {}
  },
  {
   "cell_type": "code",
   "execution_count": 92,
   "source": [
    "from IPython.display import display"
   ],
   "outputs": [],
   "metadata": {}
  },
  {
   "cell_type": "code",
   "execution_count": 95,
   "source": [
    "# check placed ratio for categorical variable\r\n",
    "for c in categorical_variables:\r\n",
    "    print(c)\r\n",
    "    df_group = df_full_train.groupby(c).placedornot.agg(['mean', 'count'])\r\n",
    "    df_group['diff'] = df_group['mean'] - global_placed\r\n",
    "    df_group['placed'] = df_group['mean'] / global_placed\r\n",
    "    display(df_group)\r\n",
    "    print()\r\n",
    "    print()"
   ],
   "outputs": [
    {
     "output_type": "stream",
     "name": "stdout",
     "text": [
      "gender\n"
     ]
    },
    {
     "output_type": "display_data",
     "data": {
      "text/plain": [
       "            mean  count      diff    placed\n",
       "gender                                     \n",
       "female  0.560724    387  0.009290  1.016847\n",
       "male    0.549622   1985 -0.001811  0.996715"
      ],
      "text/html": [
       "<div>\n",
       "<style scoped>\n",
       "    .dataframe tbody tr th:only-of-type {\n",
       "        vertical-align: middle;\n",
       "    }\n",
       "\n",
       "    .dataframe tbody tr th {\n",
       "        vertical-align: top;\n",
       "    }\n",
       "\n",
       "    .dataframe thead th {\n",
       "        text-align: right;\n",
       "    }\n",
       "</style>\n",
       "<table border=\"1\" class=\"dataframe\">\n",
       "  <thead>\n",
       "    <tr style=\"text-align: right;\">\n",
       "      <th></th>\n",
       "      <th>mean</th>\n",
       "      <th>count</th>\n",
       "      <th>diff</th>\n",
       "      <th>placed</th>\n",
       "    </tr>\n",
       "    <tr>\n",
       "      <th>gender</th>\n",
       "      <th></th>\n",
       "      <th></th>\n",
       "      <th></th>\n",
       "      <th></th>\n",
       "    </tr>\n",
       "  </thead>\n",
       "  <tbody>\n",
       "    <tr>\n",
       "      <th>female</th>\n",
       "      <td>0.560724</td>\n",
       "      <td>387</td>\n",
       "      <td>0.009290</td>\n",
       "      <td>1.016847</td>\n",
       "    </tr>\n",
       "    <tr>\n",
       "      <th>male</th>\n",
       "      <td>0.549622</td>\n",
       "      <td>1985</td>\n",
       "      <td>-0.001811</td>\n",
       "      <td>0.996715</td>\n",
       "    </tr>\n",
       "  </tbody>\n",
       "</table>\n",
       "</div>"
      ]
     },
     "metadata": {}
    },
    {
     "output_type": "stream",
     "name": "stdout",
     "text": [
      "\n",
      "\n",
      "stream\n"
     ]
    },
    {
     "output_type": "display_data",
     "data": {
      "text/plain": [
       "                                   mean  count      diff    placed\n",
       "stream                                                            \n",
       "civil                          0.457143    245 -0.094291  0.829008\n",
       "computer_science               0.587948    614  0.036514  1.066217\n",
       "electrical                     0.537906    277 -0.013527  0.975469\n",
       "electronics_and_communication  0.586705    346  0.035272  1.063964\n",
       "information_technology         0.591800    561  0.040367  1.073204\n",
       "mechanical                     0.458967    329 -0.092467  0.832316"
      ],
      "text/html": [
       "<div>\n",
       "<style scoped>\n",
       "    .dataframe tbody tr th:only-of-type {\n",
       "        vertical-align: middle;\n",
       "    }\n",
       "\n",
       "    .dataframe tbody tr th {\n",
       "        vertical-align: top;\n",
       "    }\n",
       "\n",
       "    .dataframe thead th {\n",
       "        text-align: right;\n",
       "    }\n",
       "</style>\n",
       "<table border=\"1\" class=\"dataframe\">\n",
       "  <thead>\n",
       "    <tr style=\"text-align: right;\">\n",
       "      <th></th>\n",
       "      <th>mean</th>\n",
       "      <th>count</th>\n",
       "      <th>diff</th>\n",
       "      <th>placed</th>\n",
       "    </tr>\n",
       "    <tr>\n",
       "      <th>stream</th>\n",
       "      <th></th>\n",
       "      <th></th>\n",
       "      <th></th>\n",
       "      <th></th>\n",
       "    </tr>\n",
       "  </thead>\n",
       "  <tbody>\n",
       "    <tr>\n",
       "      <th>civil</th>\n",
       "      <td>0.457143</td>\n",
       "      <td>245</td>\n",
       "      <td>-0.094291</td>\n",
       "      <td>0.829008</td>\n",
       "    </tr>\n",
       "    <tr>\n",
       "      <th>computer_science</th>\n",
       "      <td>0.587948</td>\n",
       "      <td>614</td>\n",
       "      <td>0.036514</td>\n",
       "      <td>1.066217</td>\n",
       "    </tr>\n",
       "    <tr>\n",
       "      <th>electrical</th>\n",
       "      <td>0.537906</td>\n",
       "      <td>277</td>\n",
       "      <td>-0.013527</td>\n",
       "      <td>0.975469</td>\n",
       "    </tr>\n",
       "    <tr>\n",
       "      <th>electronics_and_communication</th>\n",
       "      <td>0.586705</td>\n",
       "      <td>346</td>\n",
       "      <td>0.035272</td>\n",
       "      <td>1.063964</td>\n",
       "    </tr>\n",
       "    <tr>\n",
       "      <th>information_technology</th>\n",
       "      <td>0.591800</td>\n",
       "      <td>561</td>\n",
       "      <td>0.040367</td>\n",
       "      <td>1.073204</td>\n",
       "    </tr>\n",
       "    <tr>\n",
       "      <th>mechanical</th>\n",
       "      <td>0.458967</td>\n",
       "      <td>329</td>\n",
       "      <td>-0.092467</td>\n",
       "      <td>0.832316</td>\n",
       "    </tr>\n",
       "  </tbody>\n",
       "</table>\n",
       "</div>"
      ]
     },
     "metadata": {}
    },
    {
     "output_type": "stream",
     "name": "stdout",
     "text": [
      "\n",
      "\n"
     ]
    }
   ],
   "metadata": {}
  },
  {
   "cell_type": "markdown",
   "source": [
    "## Feature importance: Mutual information\n",
    "Mutual information - concept from information theory, it tells us how much we can learn about one variable if we know the value of another\n",
    "\n",
    "https://en.wikipedia.org/wiki/Mutual_information"
   ],
   "metadata": {}
  },
  {
   "cell_type": "code",
   "execution_count": 96,
   "source": [
    "from sklearn.metrics import mutual_info_score"
   ],
   "outputs": [],
   "metadata": {}
  },
  {
   "cell_type": "code",
   "execution_count": 97,
   "source": [
    "def mutual_info_placed_score(series):\r\n",
    "    return mutual_info_score(series, df_full_train.placedornot)"
   ],
   "outputs": [],
   "metadata": {}
  },
  {
   "cell_type": "code",
   "execution_count": 99,
   "source": [
    "mi = df_full_train[categorical_variables].apply(mutual_info_placed_score)\r\n",
    "mi.sort_values(ascending=False)"
   ],
   "outputs": [
    {
     "output_type": "execute_result",
     "data": {
      "text/plain": [
       "stream    0.006122\n",
       "gender    0.000034\n",
       "dtype: float64"
      ]
     },
     "metadata": {},
     "execution_count": 99
    }
   ],
   "metadata": {}
  },
  {
   "cell_type": "markdown",
   "source": [
    "## Feature importance: Correlation\n",
    "How about numerical columns?\n",
    "\n",
    "Correlation coefficient - https://en.wikipedia.org/wiki/Pearson_correlation_coefficient"
   ],
   "metadata": {}
  },
  {
   "cell_type": "code",
   "execution_count": 106,
   "source": [
    "# check placed ratio for numerical variable \r\n",
    "# 1. cgpa\r\n",
    "# 2. internships\r\n",
    "\r\n",
    "numerical_variables = list(df_train.dtypes[df.dtypes != 'object'].index)\r\n",
    "df_full_train[numerical_variables].corrwith(df_full_train.placedornot).abs()"
   ],
   "outputs": [
    {
     "output_type": "execute_result",
     "data": {
      "text/plain": [
       "age                  0.049634\n",
       "internships          0.165023\n",
       "cgpa                 0.588266\n",
       "hostel               0.037081\n",
       "historyofbacklogs    0.025980\n",
       "dtype: float64"
      ]
     },
     "metadata": {},
     "execution_count": 106
    }
   ],
   "metadata": {}
  },
  {
   "cell_type": "markdown",
   "source": [
    "## One-hot encoding\n",
    "Use Scikit-Learn to encode categorical features"
   ],
   "metadata": {}
  },
  {
   "cell_type": "code",
   "execution_count": 107,
   "source": [
    "from sklearn.feature_extraction import DictVectorizer"
   ],
   "outputs": [],
   "metadata": {}
  },
  {
   "cell_type": "code",
   "execution_count": 108,
   "source": [
    "dv = DictVectorizer(sparse=False)\r\n",
    "\r\n",
    "train_dict = df_train.to_dict(orient='records')\r\n",
    "X_train = dv.fit_transform(train_dict)\r\n",
    "\r\n",
    "val_dict = df_val.to_dict(orient='records')\r\n",
    "X_val = dv.transform(val_dict)"
   ],
   "outputs": [],
   "metadata": {}
  },
  {
   "cell_type": "code",
   "execution_count": 110,
   "source": [
    "dv.get_feature_names()"
   ],
   "outputs": [
    {
     "output_type": "stream",
     "name": "stderr",
     "text": [
      "c:\\python\\lib\\site-packages\\sklearn\\utils\\deprecation.py:87: FutureWarning: Function get_feature_names is deprecated; get_feature_names is deprecated in 1.0 and will be removed in 1.2. Please use get_feature_names_out instead.\n",
      "  warnings.warn(msg, category=FutureWarning)\n"
     ]
    },
    {
     "output_type": "execute_result",
     "data": {
      "text/plain": [
       "['age',\n",
       " 'cgpa',\n",
       " 'gender=female',\n",
       " 'gender=male',\n",
       " 'historyofbacklogs',\n",
       " 'hostel',\n",
       " 'internships',\n",
       " 'stream=civil',\n",
       " 'stream=computer_science',\n",
       " 'stream=electrical',\n",
       " 'stream=electronics_and_communication',\n",
       " 'stream=information_technology',\n",
       " 'stream=mechanical']"
      ]
     },
     "metadata": {},
     "execution_count": 110
    }
   ],
   "metadata": {}
  },
  {
   "cell_type": "markdown",
   "source": [
    "## Training logistic regression with Scikit-Learn\n",
    "Train a model with Scikit-Learn\n",
    "\n",
    "Apply it to the validation dataset\n",
    "\n",
    "Calculate the accuracy"
   ],
   "metadata": {}
  },
  {
   "cell_type": "code",
   "execution_count": 111,
   "source": [
    "from sklearn.linear_model import LogisticRegression"
   ],
   "outputs": [],
   "metadata": {}
  },
  {
   "cell_type": "code",
   "execution_count": 112,
   "source": [
    "model = LogisticRegression(solver='lbfgs')\n",
    "model.fit(X_train, y_train)"
   ],
   "outputs": [
    {
     "output_type": "execute_result",
     "data": {
      "text/plain": [
       "LogisticRegression()"
      ]
     },
     "metadata": {},
     "execution_count": 112
    }
   ],
   "metadata": {}
  },
  {
   "cell_type": "code",
   "execution_count": 113,
   "source": [
    "y_pred = model.predict_proba(X_val)[:, 1]"
   ],
   "outputs": [],
   "metadata": {}
  },
  {
   "cell_type": "code",
   "execution_count": 114,
   "source": [
    "placed = (y_pred >= 0.5)"
   ],
   "outputs": [],
   "metadata": {}
  },
  {
   "cell_type": "code",
   "execution_count": 115,
   "source": [
    "(y_val == placed).mean()"
   ],
   "outputs": [
    {
     "output_type": "execute_result",
     "data": {
      "text/plain": [
       "0.7672849915682968"
      ]
     },
     "metadata": {},
     "execution_count": 115
    }
   ],
   "metadata": {}
  },
  {
   "cell_type": "code",
   "execution_count": 116,
   "source": [
    "df_pred = pd.DataFrame()\r\n",
    "df_pred['probability'] = y_pred\r\n",
    "df_pred['prediction'] = placed.astype(int)\r\n",
    "df_pred['actual'] = y_val"
   ],
   "outputs": [],
   "metadata": {}
  },
  {
   "cell_type": "code",
   "execution_count": 117,
   "source": [
    "df_pred"
   ],
   "outputs": [
    {
     "output_type": "execute_result",
     "data": {
      "text/plain": [
       "     probability  prediction  actual\n",
       "0       0.243450           0       0\n",
       "1       0.425468           0       0\n",
       "2       0.309668           0       1\n",
       "3       0.829563           1       1\n",
       "4       0.786424           1       0\n",
       "..           ...         ...     ...\n",
       "588     0.718525           1       1\n",
       "589     0.986920           1       1\n",
       "590     0.244126           0       0\n",
       "591     0.556229           1       1\n",
       "592     0.786424           1       1\n",
       "\n",
       "[593 rows x 3 columns]"
      ],
      "text/html": [
       "<div>\n",
       "<style scoped>\n",
       "    .dataframe tbody tr th:only-of-type {\n",
       "        vertical-align: middle;\n",
       "    }\n",
       "\n",
       "    .dataframe tbody tr th {\n",
       "        vertical-align: top;\n",
       "    }\n",
       "\n",
       "    .dataframe thead th {\n",
       "        text-align: right;\n",
       "    }\n",
       "</style>\n",
       "<table border=\"1\" class=\"dataframe\">\n",
       "  <thead>\n",
       "    <tr style=\"text-align: right;\">\n",
       "      <th></th>\n",
       "      <th>probability</th>\n",
       "      <th>prediction</th>\n",
       "      <th>actual</th>\n",
       "    </tr>\n",
       "  </thead>\n",
       "  <tbody>\n",
       "    <tr>\n",
       "      <th>0</th>\n",
       "      <td>0.243450</td>\n",
       "      <td>0</td>\n",
       "      <td>0</td>\n",
       "    </tr>\n",
       "    <tr>\n",
       "      <th>1</th>\n",
       "      <td>0.425468</td>\n",
       "      <td>0</td>\n",
       "      <td>0</td>\n",
       "    </tr>\n",
       "    <tr>\n",
       "      <th>2</th>\n",
       "      <td>0.309668</td>\n",
       "      <td>0</td>\n",
       "      <td>1</td>\n",
       "    </tr>\n",
       "    <tr>\n",
       "      <th>3</th>\n",
       "      <td>0.829563</td>\n",
       "      <td>1</td>\n",
       "      <td>1</td>\n",
       "    </tr>\n",
       "    <tr>\n",
       "      <th>4</th>\n",
       "      <td>0.786424</td>\n",
       "      <td>1</td>\n",
       "      <td>0</td>\n",
       "    </tr>\n",
       "    <tr>\n",
       "      <th>...</th>\n",
       "      <td>...</td>\n",
       "      <td>...</td>\n",
       "      <td>...</td>\n",
       "    </tr>\n",
       "    <tr>\n",
       "      <th>588</th>\n",
       "      <td>0.718525</td>\n",
       "      <td>1</td>\n",
       "      <td>1</td>\n",
       "    </tr>\n",
       "    <tr>\n",
       "      <th>589</th>\n",
       "      <td>0.986920</td>\n",
       "      <td>1</td>\n",
       "      <td>1</td>\n",
       "    </tr>\n",
       "    <tr>\n",
       "      <th>590</th>\n",
       "      <td>0.244126</td>\n",
       "      <td>0</td>\n",
       "      <td>0</td>\n",
       "    </tr>\n",
       "    <tr>\n",
       "      <th>591</th>\n",
       "      <td>0.556229</td>\n",
       "      <td>1</td>\n",
       "      <td>1</td>\n",
       "    </tr>\n",
       "    <tr>\n",
       "      <th>592</th>\n",
       "      <td>0.786424</td>\n",
       "      <td>1</td>\n",
       "      <td>1</td>\n",
       "    </tr>\n",
       "  </tbody>\n",
       "</table>\n",
       "<p>593 rows × 3 columns</p>\n",
       "</div>"
      ]
     },
     "metadata": {},
     "execution_count": 117
    }
   ],
   "metadata": {}
  },
  {
   "cell_type": "code",
   "execution_count": 118,
   "source": [
    "df_pred['correct'] = df_pred.prediction == df_pred.actual"
   ],
   "outputs": [],
   "metadata": {}
  },
  {
   "cell_type": "code",
   "execution_count": 119,
   "source": [
    "df_pred"
   ],
   "outputs": [
    {
     "output_type": "execute_result",
     "data": {
      "text/plain": [
       "     probability  prediction  actual  correct\n",
       "0       0.243450           0       0     True\n",
       "1       0.425468           0       0     True\n",
       "2       0.309668           0       1    False\n",
       "3       0.829563           1       1     True\n",
       "4       0.786424           1       0    False\n",
       "..           ...         ...     ...      ...\n",
       "588     0.718525           1       1     True\n",
       "589     0.986920           1       1     True\n",
       "590     0.244126           0       0     True\n",
       "591     0.556229           1       1     True\n",
       "592     0.786424           1       1     True\n",
       "\n",
       "[593 rows x 4 columns]"
      ],
      "text/html": [
       "<div>\n",
       "<style scoped>\n",
       "    .dataframe tbody tr th:only-of-type {\n",
       "        vertical-align: middle;\n",
       "    }\n",
       "\n",
       "    .dataframe tbody tr th {\n",
       "        vertical-align: top;\n",
       "    }\n",
       "\n",
       "    .dataframe thead th {\n",
       "        text-align: right;\n",
       "    }\n",
       "</style>\n",
       "<table border=\"1\" class=\"dataframe\">\n",
       "  <thead>\n",
       "    <tr style=\"text-align: right;\">\n",
       "      <th></th>\n",
       "      <th>probability</th>\n",
       "      <th>prediction</th>\n",
       "      <th>actual</th>\n",
       "      <th>correct</th>\n",
       "    </tr>\n",
       "  </thead>\n",
       "  <tbody>\n",
       "    <tr>\n",
       "      <th>0</th>\n",
       "      <td>0.243450</td>\n",
       "      <td>0</td>\n",
       "      <td>0</td>\n",
       "      <td>True</td>\n",
       "    </tr>\n",
       "    <tr>\n",
       "      <th>1</th>\n",
       "      <td>0.425468</td>\n",
       "      <td>0</td>\n",
       "      <td>0</td>\n",
       "      <td>True</td>\n",
       "    </tr>\n",
       "    <tr>\n",
       "      <th>2</th>\n",
       "      <td>0.309668</td>\n",
       "      <td>0</td>\n",
       "      <td>1</td>\n",
       "      <td>False</td>\n",
       "    </tr>\n",
       "    <tr>\n",
       "      <th>3</th>\n",
       "      <td>0.829563</td>\n",
       "      <td>1</td>\n",
       "      <td>1</td>\n",
       "      <td>True</td>\n",
       "    </tr>\n",
       "    <tr>\n",
       "      <th>4</th>\n",
       "      <td>0.786424</td>\n",
       "      <td>1</td>\n",
       "      <td>0</td>\n",
       "      <td>False</td>\n",
       "    </tr>\n",
       "    <tr>\n",
       "      <th>...</th>\n",
       "      <td>...</td>\n",
       "      <td>...</td>\n",
       "      <td>...</td>\n",
       "      <td>...</td>\n",
       "    </tr>\n",
       "    <tr>\n",
       "      <th>588</th>\n",
       "      <td>0.718525</td>\n",
       "      <td>1</td>\n",
       "      <td>1</td>\n",
       "      <td>True</td>\n",
       "    </tr>\n",
       "    <tr>\n",
       "      <th>589</th>\n",
       "      <td>0.986920</td>\n",
       "      <td>1</td>\n",
       "      <td>1</td>\n",
       "      <td>True</td>\n",
       "    </tr>\n",
       "    <tr>\n",
       "      <th>590</th>\n",
       "      <td>0.244126</td>\n",
       "      <td>0</td>\n",
       "      <td>0</td>\n",
       "      <td>True</td>\n",
       "    </tr>\n",
       "    <tr>\n",
       "      <th>591</th>\n",
       "      <td>0.556229</td>\n",
       "      <td>1</td>\n",
       "      <td>1</td>\n",
       "      <td>True</td>\n",
       "    </tr>\n",
       "    <tr>\n",
       "      <th>592</th>\n",
       "      <td>0.786424</td>\n",
       "      <td>1</td>\n",
       "      <td>1</td>\n",
       "      <td>True</td>\n",
       "    </tr>\n",
       "  </tbody>\n",
       "</table>\n",
       "<p>593 rows × 4 columns</p>\n",
       "</div>"
      ]
     },
     "metadata": {},
     "execution_count": 119
    }
   ],
   "metadata": {}
  },
  {
   "cell_type": "code",
   "execution_count": 120,
   "source": [
    "df_pred.correct.mean()"
   ],
   "outputs": [
    {
     "output_type": "execute_result",
     "data": {
      "text/plain": [
       "0.7672849915682968"
      ]
     },
     "metadata": {},
     "execution_count": 120
    }
   ],
   "metadata": {}
  },
  {
   "cell_type": "code",
   "execution_count": 121,
   "source": [
    "y_pred_train = model.predict_proba(X_train)[:, 1]"
   ],
   "outputs": [],
   "metadata": {}
  },
  {
   "cell_type": "code",
   "execution_count": 122,
   "source": [
    "placed_train = (y_pred_train >= 0.5)"
   ],
   "outputs": [],
   "metadata": {}
  },
  {
   "cell_type": "code",
   "execution_count": 124,
   "source": [
    "(y_train == placed_train).mean()"
   ],
   "outputs": [
    {
     "output_type": "execute_result",
     "data": {
      "text/plain": [
       "0.7689713322091062"
      ]
     },
     "metadata": {},
     "execution_count": 124
    }
   ],
   "metadata": {}
  },
  {
   "cell_type": "code",
   "execution_count": 127,
   "source": [
    "solver = ['liblinear', 'lbfgs', 'sag', 'saga', 'newton-cg']"
   ],
   "outputs": [],
   "metadata": {}
  },
  {
   "cell_type": "code",
   "execution_count": 129,
   "source": [
    "for s in solver:\r\n",
    "    print(s)\r\n",
    "    model = LogisticRegression(solver=s)\r\n",
    "    model.fit(X_train, y_train)\r\n",
    "    y_pred = model.predict_proba(X_val)[:, 1]\r\n",
    "    placed = (y_pred >= 0.5)\r\n",
    "    print((y_val == placed).mean())"
   ],
   "outputs": [
    {
     "output_type": "stream",
     "name": "stdout",
     "text": [
      "liblinear\n",
      "0.7622259696458684\n",
      "lbfgs\n",
      "0.7672849915682968\n",
      "sag\n",
      "0.7655986509274874\n",
      "saga\n",
      "0.7757166947723441\n",
      "newton-cg\n",
      "0.7672849915682968\n"
     ]
    },
    {
     "output_type": "stream",
     "name": "stderr",
     "text": [
      "c:\\python\\lib\\site-packages\\sklearn\\linear_model\\_sag.py:354: ConvergenceWarning: The max_iter was reached which means the coef_ did not converge\n",
      "  ConvergenceWarning,\n",
      "c:\\python\\lib\\site-packages\\sklearn\\linear_model\\_sag.py:354: ConvergenceWarning: The max_iter was reached which means the coef_ did not converge\n",
      "  ConvergenceWarning,\n"
     ]
    }
   ],
   "metadata": {}
  },
  {
   "cell_type": "code",
   "execution_count": 140,
   "source": [
    "penalty = ['l2', 'none']"
   ],
   "outputs": [],
   "metadata": {}
  },
  {
   "cell_type": "code",
   "execution_count": 141,
   "source": [
    "for p in penalty:\r\n",
    "    print(p)\r\n",
    "    model = LogisticRegression(penalty=p, solver = 'lbfgs')\r\n",
    "    model.fit(X_train, y_train)\r\n",
    "    y_pred = model.predict_proba(X_val)[:, 1]\r\n",
    "    placed = (y_pred >= 0.5)\r\n",
    "    print((y_val == placed).mean())"
   ],
   "outputs": [
    {
     "output_type": "stream",
     "name": "stdout",
     "text": [
      "l2\n",
      "0.7672849915682968\n",
      "none\n",
      "0.7672849915682968\n"
     ]
    }
   ],
   "metadata": {}
  },
  {
   "cell_type": "code",
   "execution_count": 142,
   "source": [
    "C = [0.1, 0.01, 0.001, 1]"
   ],
   "outputs": [],
   "metadata": {}
  },
  {
   "cell_type": "code",
   "execution_count": 143,
   "source": [
    "for c in C:\r\n",
    "    print(c)\r\n",
    "    model = LogisticRegression(solver = 'lbfgs', C=c)\r\n",
    "    model.fit(X_train, y_train)\r\n",
    "    y_pred = model.predict_proba(X_val)[:, 1]\r\n",
    "    placed = (y_pred >= 0.5)\r\n",
    "    print((y_val == placed).mean())"
   ],
   "outputs": [
    {
     "output_type": "stream",
     "name": "stdout",
     "text": [
      "0.1\n",
      "0.7672849915682968\n",
      "0.01\n",
      "0.7487352445193929\n",
      "0.001\n",
      "0.7284991568296796\n",
      "1\n",
      "0.7672849915682968\n"
     ]
    },
    {
     "output_type": "stream",
     "name": "stderr",
     "text": [
      "c:\\python\\lib\\site-packages\\sklearn\\linear_model\\_logistic.py:818: ConvergenceWarning: lbfgs failed to converge (status=1):\n",
      "STOP: TOTAL NO. of ITERATIONS REACHED LIMIT.\n",
      "\n",
      "Increase the number of iterations (max_iter) or scale the data as shown in:\n",
      "    https://scikit-learn.org/stable/modules/preprocessing.html\n",
      "Please also refer to the documentation for alternative solver options:\n",
      "    https://scikit-learn.org/stable/modules/linear_model.html#logistic-regression\n",
      "  extra_warning_msg=_LOGISTIC_SOLVER_CONVERGENCE_MSG,\n"
     ]
    }
   ],
   "metadata": {}
  },
  {
   "cell_type": "code",
   "execution_count": 145,
   "source": [
    "dv = DictVectorizer(sparse=False)\r\n",
    "\r\n",
    "train_dict_sel = df_train[['cgpa', 'internships']].to_dict(orient='records')\r\n",
    "X_train_sel = dv.fit_transform(train_dict_sel)\r\n",
    "\r\n",
    "val_dict_sel = df_val[['cgpa', 'internships']].to_dict(orient='records')\r\n",
    "X_val_sel = dv.transform(val_dict_sel)\r\n",
    "\r\n",
    "model = LogisticRegression(solver = 'lbfgs')\r\n",
    "model.fit(X_train, y_train)\r\n",
    "y_pred = model.predict_proba(X_val)[:, 1]\r\n",
    "placed = (y_pred >= 0.5)\r\n",
    "print((y_val == placed).mean())"
   ],
   "outputs": [
    {
     "output_type": "stream",
     "name": "stdout",
     "text": [
      "0.7672849915682968\n"
     ]
    }
   ],
   "metadata": {}
  },
  {
   "cell_type": "markdown",
   "source": [
    "## Training decision trees with Scikit-Learn"
   ],
   "metadata": {}
  },
  {
   "cell_type": "code",
   "execution_count": 147,
   "source": [
    "from sklearn.tree import DecisionTreeClassifier\r\n",
    "from sklearn.metrics import roc_auc_score\r\n",
    "from sklearn.tree import export_text"
   ],
   "outputs": [],
   "metadata": {}
  },
  {
   "cell_type": "code",
   "execution_count": 154,
   "source": [
    "train_dicts = df_train.fillna(0).to_dict(orient='records')\r\n",
    "\r\n",
    "dv = DictVectorizer(sparse=False)\r\n",
    "X_train = dv.fit_transform(train_dicts)\r\n",
    "\r\n",
    "dt = DecisionTreeClassifier()\r\n",
    "dt.fit(X_train, y_train)\r\n",
    "\r\n",
    "val_dicts = df_val.fillna(0).to_dict(orient='records')\r\n",
    "X_val = dv.transform(val_dicts)"
   ],
   "outputs": [],
   "metadata": {}
  },
  {
   "cell_type": "code",
   "execution_count": 157,
   "source": [
    "y_pred = dt.predict_proba(X_val)[:, 1]\r\n",
    "roc_auc_score(y_val, y_pred)"
   ],
   "outputs": [
    {
     "output_type": "execute_result",
     "data": {
      "text/plain": [
       "0.9187396921385377"
      ]
     },
     "metadata": {},
     "execution_count": 157
    }
   ],
   "metadata": {}
  },
  {
   "cell_type": "code",
   "execution_count": 158,
   "source": [
    "y_pred = dt.predict_proba(X_train)[:, 1]\r\n",
    "roc_auc_score(y_train, y_pred)"
   ],
   "outputs": [
    {
     "output_type": "execute_result",
     "data": {
      "text/plain": [
       "0.984526751813986"
      ]
     },
     "metadata": {},
     "execution_count": 158
    }
   ],
   "metadata": {}
  },
  {
   "cell_type": "code",
   "execution_count": 160,
   "source": [
    "# Now it leads to overfitting\r\n",
    "print(export_text(dt, feature_names=dv.get_feature_names()))"
   ],
   "outputs": [
    {
     "output_type": "stream",
     "name": "stdout",
     "text": [
      "|--- cgpa <= 7.50\n",
      "|   |--- internships <= 1.50\n",
      "|   |   |--- age <= 23.50\n",
      "|   |   |   |--- stream=mechanical <= 0.50\n",
      "|   |   |   |   |--- stream=civil <= 0.50\n",
      "|   |   |   |   |   |--- cgpa <= 6.50\n",
      "|   |   |   |   |   |   |--- stream=electronics_and_communication <= 0.50\n",
      "|   |   |   |   |   |   |   |--- age <= 21.50\n",
      "|   |   |   |   |   |   |   |   |--- historyofbacklogs <= 0.50\n",
      "|   |   |   |   |   |   |   |   |   |--- cgpa <= 5.50\n",
      "|   |   |   |   |   |   |   |   |   |   |--- class: 0\n",
      "|   |   |   |   |   |   |   |   |   |--- cgpa >  5.50\n",
      "|   |   |   |   |   |   |   |   |   |   |--- age <= 20.50\n",
      "|   |   |   |   |   |   |   |   |   |   |   |--- truncated branch of depth 6\n",
      "|   |   |   |   |   |   |   |   |   |   |--- age >  20.50\n",
      "|   |   |   |   |   |   |   |   |   |   |   |--- truncated branch of depth 6\n",
      "|   |   |   |   |   |   |   |   |--- historyofbacklogs >  0.50\n",
      "|   |   |   |   |   |   |   |   |   |--- stream=electrical <= 0.50\n",
      "|   |   |   |   |   |   |   |   |   |   |--- internships <= 0.50\n",
      "|   |   |   |   |   |   |   |   |   |   |   |--- truncated branch of depth 6\n",
      "|   |   |   |   |   |   |   |   |   |   |--- internships >  0.50\n",
      "|   |   |   |   |   |   |   |   |   |   |   |--- truncated branch of depth 5\n",
      "|   |   |   |   |   |   |   |   |   |--- stream=electrical >  0.50\n",
      "|   |   |   |   |   |   |   |   |   |   |--- class: 0\n",
      "|   |   |   |   |   |   |   |--- age >  21.50\n",
      "|   |   |   |   |   |   |   |   |--- stream=electrical <= 0.50\n",
      "|   |   |   |   |   |   |   |   |   |--- cgpa <= 5.50\n",
      "|   |   |   |   |   |   |   |   |   |   |--- age <= 22.50\n",
      "|   |   |   |   |   |   |   |   |   |   |   |--- class: 0\n",
      "|   |   |   |   |   |   |   |   |   |   |--- age >  22.50\n",
      "|   |   |   |   |   |   |   |   |   |   |   |--- truncated branch of depth 4\n",
      "|   |   |   |   |   |   |   |   |   |--- cgpa >  5.50\n",
      "|   |   |   |   |   |   |   |   |   |   |--- historyofbacklogs <= 0.50\n",
      "|   |   |   |   |   |   |   |   |   |   |   |--- truncated branch of depth 6\n",
      "|   |   |   |   |   |   |   |   |   |   |--- historyofbacklogs >  0.50\n",
      "|   |   |   |   |   |   |   |   |   |   |   |--- truncated branch of depth 3\n",
      "|   |   |   |   |   |   |   |   |--- stream=electrical >  0.50\n",
      "|   |   |   |   |   |   |   |   |   |--- gender=male <= 0.50\n",
      "|   |   |   |   |   |   |   |   |   |   |--- class: 0\n",
      "|   |   |   |   |   |   |   |   |   |--- gender=male >  0.50\n",
      "|   |   |   |   |   |   |   |   |   |   |--- class: 0\n",
      "|   |   |   |   |   |   |--- stream=electronics_and_communication >  0.50\n",
      "|   |   |   |   |   |   |   |--- age <= 22.50\n",
      "|   |   |   |   |   |   |   |   |--- class: 0\n",
      "|   |   |   |   |   |   |   |--- age >  22.50\n",
      "|   |   |   |   |   |   |   |   |--- historyofbacklogs <= 0.50\n",
      "|   |   |   |   |   |   |   |   |   |--- class: 0\n",
      "|   |   |   |   |   |   |   |   |--- historyofbacklogs >  0.50\n",
      "|   |   |   |   |   |   |   |   |   |--- hostel <= 0.50\n",
      "|   |   |   |   |   |   |   |   |   |   |--- internships <= 0.50\n",
      "|   |   |   |   |   |   |   |   |   |   |   |--- class: 0\n",
      "|   |   |   |   |   |   |   |   |   |   |--- internships >  0.50\n",
      "|   |   |   |   |   |   |   |   |   |   |   |--- class: 1\n",
      "|   |   |   |   |   |   |   |   |   |--- hostel >  0.50\n",
      "|   |   |   |   |   |   |   |   |   |   |--- class: 0\n",
      "|   |   |   |   |   |--- cgpa >  6.50\n",
      "|   |   |   |   |   |   |--- internships <= 0.50\n",
      "|   |   |   |   |   |   |   |--- stream=electronics_and_communication <= 0.50\n",
      "|   |   |   |   |   |   |   |   |--- stream=electrical <= 0.50\n",
      "|   |   |   |   |   |   |   |   |   |--- age <= 20.50\n",
      "|   |   |   |   |   |   |   |   |   |   |--- age <= 19.50\n",
      "|   |   |   |   |   |   |   |   |   |   |   |--- truncated branch of depth 3\n",
      "|   |   |   |   |   |   |   |   |   |   |--- age >  19.50\n",
      "|   |   |   |   |   |   |   |   |   |   |   |--- truncated branch of depth 3\n",
      "|   |   |   |   |   |   |   |   |   |--- age >  20.50\n",
      "|   |   |   |   |   |   |   |   |   |   |--- age <= 21.50\n",
      "|   |   |   |   |   |   |   |   |   |   |   |--- truncated branch of depth 5\n",
      "|   |   |   |   |   |   |   |   |   |   |--- age >  21.50\n",
      "|   |   |   |   |   |   |   |   |   |   |   |--- truncated branch of depth 6\n",
      "|   |   |   |   |   |   |   |   |--- stream=electrical >  0.50\n",
      "|   |   |   |   |   |   |   |   |   |--- age <= 22.50\n",
      "|   |   |   |   |   |   |   |   |   |   |--- hostel <= 0.50\n",
      "|   |   |   |   |   |   |   |   |   |   |   |--- truncated branch of depth 4\n",
      "|   |   |   |   |   |   |   |   |   |   |--- hostel >  0.50\n",
      "|   |   |   |   |   |   |   |   |   |   |   |--- class: 0\n",
      "|   |   |   |   |   |   |   |   |   |--- age >  22.50\n",
      "|   |   |   |   |   |   |   |   |   |   |--- historyofbacklogs <= 0.50\n",
      "|   |   |   |   |   |   |   |   |   |   |   |--- class: 1\n",
      "|   |   |   |   |   |   |   |   |   |   |--- historyofbacklogs >  0.50\n",
      "|   |   |   |   |   |   |   |   |   |   |   |--- class: 0\n",
      "|   |   |   |   |   |   |   |--- stream=electronics_and_communication >  0.50\n",
      "|   |   |   |   |   |   |   |   |--- age <= 21.50\n",
      "|   |   |   |   |   |   |   |   |   |--- gender=female <= 0.50\n",
      "|   |   |   |   |   |   |   |   |   |   |--- age <= 20.50\n",
      "|   |   |   |   |   |   |   |   |   |   |   |--- truncated branch of depth 2\n",
      "|   |   |   |   |   |   |   |   |   |   |--- age >  20.50\n",
      "|   |   |   |   |   |   |   |   |   |   |   |--- class: 1\n",
      "|   |   |   |   |   |   |   |   |   |--- gender=female >  0.50\n",
      "|   |   |   |   |   |   |   |   |   |   |--- age <= 20.50\n",
      "|   |   |   |   |   |   |   |   |   |   |   |--- class: 1\n",
      "|   |   |   |   |   |   |   |   |   |   |--- age >  20.50\n",
      "|   |   |   |   |   |   |   |   |   |   |   |--- class: 0\n",
      "|   |   |   |   |   |   |   |   |--- age >  21.50\n",
      "|   |   |   |   |   |   |   |   |   |--- age <= 22.50\n",
      "|   |   |   |   |   |   |   |   |   |   |--- gender=female <= 0.50\n",
      "|   |   |   |   |   |   |   |   |   |   |   |--- class: 0\n",
      "|   |   |   |   |   |   |   |   |   |   |--- gender=female >  0.50\n",
      "|   |   |   |   |   |   |   |   |   |   |   |--- class: 0\n",
      "|   |   |   |   |   |   |   |   |   |--- age >  22.50\n",
      "|   |   |   |   |   |   |   |   |   |   |--- class: 0\n",
      "|   |   |   |   |   |   |--- internships >  0.50\n",
      "|   |   |   |   |   |   |   |--- stream=electrical <= 0.50\n",
      "|   |   |   |   |   |   |   |   |--- historyofbacklogs <= 0.50\n",
      "|   |   |   |   |   |   |   |   |   |--- age <= 22.50\n",
      "|   |   |   |   |   |   |   |   |   |   |--- hostel <= 0.50\n",
      "|   |   |   |   |   |   |   |   |   |   |   |--- truncated branch of depth 7\n",
      "|   |   |   |   |   |   |   |   |   |   |--- hostel >  0.50\n",
      "|   |   |   |   |   |   |   |   |   |   |   |--- truncated branch of depth 6\n",
      "|   |   |   |   |   |   |   |   |   |--- age >  22.50\n",
      "|   |   |   |   |   |   |   |   |   |   |--- stream=computer_science <= 0.50\n",
      "|   |   |   |   |   |   |   |   |   |   |   |--- truncated branch of depth 3\n",
      "|   |   |   |   |   |   |   |   |   |   |--- stream=computer_science >  0.50\n",
      "|   |   |   |   |   |   |   |   |   |   |   |--- class: 0\n",
      "|   |   |   |   |   |   |   |   |--- historyofbacklogs >  0.50\n",
      "|   |   |   |   |   |   |   |   |   |--- stream=information_technology <= 0.50\n",
      "|   |   |   |   |   |   |   |   |   |   |--- gender=male <= 0.50\n",
      "|   |   |   |   |   |   |   |   |   |   |   |--- class: 0\n",
      "|   |   |   |   |   |   |   |   |   |   |--- gender=male >  0.50\n",
      "|   |   |   |   |   |   |   |   |   |   |   |--- truncated branch of depth 5\n",
      "|   |   |   |   |   |   |   |   |   |--- stream=information_technology >  0.50\n",
      "|   |   |   |   |   |   |   |   |   |   |--- age <= 21.50\n",
      "|   |   |   |   |   |   |   |   |   |   |   |--- class: 0\n",
      "|   |   |   |   |   |   |   |   |   |   |--- age >  21.50\n",
      "|   |   |   |   |   |   |   |   |   |   |   |--- truncated branch of depth 3\n",
      "|   |   |   |   |   |   |   |--- stream=electrical >  0.50\n",
      "|   |   |   |   |   |   |   |   |--- age <= 21.50\n",
      "|   |   |   |   |   |   |   |   |   |--- gender=female <= 0.50\n",
      "|   |   |   |   |   |   |   |   |   |   |--- class: 1\n",
      "|   |   |   |   |   |   |   |   |   |--- gender=female >  0.50\n",
      "|   |   |   |   |   |   |   |   |   |   |--- historyofbacklogs <= 0.50\n",
      "|   |   |   |   |   |   |   |   |   |   |   |--- class: 1\n",
      "|   |   |   |   |   |   |   |   |   |   |--- historyofbacklogs >  0.50\n",
      "|   |   |   |   |   |   |   |   |   |   |   |--- class: 1\n",
      "|   |   |   |   |   |   |   |   |--- age >  21.50\n",
      "|   |   |   |   |   |   |   |   |   |--- class: 0\n",
      "|   |   |   |   |--- stream=civil >  0.50\n",
      "|   |   |   |   |   |--- age <= 22.50\n",
      "|   |   |   |   |   |   |--- age <= 19.50\n",
      "|   |   |   |   |   |   |   |--- cgpa <= 6.50\n",
      "|   |   |   |   |   |   |   |   |--- internships <= 0.50\n",
      "|   |   |   |   |   |   |   |   |   |--- class: 0\n",
      "|   |   |   |   |   |   |   |   |--- internships >  0.50\n",
      "|   |   |   |   |   |   |   |   |   |--- class: 1\n",
      "|   |   |   |   |   |   |   |--- cgpa >  6.50\n",
      "|   |   |   |   |   |   |   |   |--- class: 0\n",
      "|   |   |   |   |   |   |--- age >  19.50\n",
      "|   |   |   |   |   |   |   |--- internships <= 0.50\n",
      "|   |   |   |   |   |   |   |   |--- historyofbacklogs <= 0.50\n",
      "|   |   |   |   |   |   |   |   |   |--- age <= 21.50\n",
      "|   |   |   |   |   |   |   |   |   |   |--- age <= 20.50\n",
      "|   |   |   |   |   |   |   |   |   |   |   |--- class: 0\n",
      "|   |   |   |   |   |   |   |   |   |   |--- age >  20.50\n",
      "|   |   |   |   |   |   |   |   |   |   |   |--- truncated branch of depth 3\n",
      "|   |   |   |   |   |   |   |   |   |--- age >  21.50\n",
      "|   |   |   |   |   |   |   |   |   |   |--- hostel <= 0.50\n",
      "|   |   |   |   |   |   |   |   |   |   |   |--- truncated branch of depth 3\n",
      "|   |   |   |   |   |   |   |   |   |   |--- hostel >  0.50\n",
      "|   |   |   |   |   |   |   |   |   |   |   |--- class: 0\n",
      "|   |   |   |   |   |   |   |   |--- historyofbacklogs >  0.50\n",
      "|   |   |   |   |   |   |   |   |   |--- class: 0\n",
      "|   |   |   |   |   |   |   |--- internships >  0.50\n",
      "|   |   |   |   |   |   |   |   |--- class: 0\n",
      "|   |   |   |   |   |--- age >  22.50\n",
      "|   |   |   |   |   |   |--- hostel <= 0.50\n",
      "|   |   |   |   |   |   |   |--- internships <= 0.50\n",
      "|   |   |   |   |   |   |   |   |--- cgpa <= 5.50\n",
      "|   |   |   |   |   |   |   |   |   |--- class: 0\n",
      "|   |   |   |   |   |   |   |   |--- cgpa >  5.50\n",
      "|   |   |   |   |   |   |   |   |   |--- cgpa <= 6.50\n",
      "|   |   |   |   |   |   |   |   |   |   |--- class: 1\n",
      "|   |   |   |   |   |   |   |   |   |--- cgpa >  6.50\n",
      "|   |   |   |   |   |   |   |   |   |   |--- class: 0\n",
      "|   |   |   |   |   |   |   |--- internships >  0.50\n",
      "|   |   |   |   |   |   |   |   |--- class: 0\n",
      "|   |   |   |   |   |   |--- hostel >  0.50\n",
      "|   |   |   |   |   |   |   |--- class: 1\n",
      "|   |   |   |--- stream=mechanical >  0.50\n",
      "|   |   |   |   |--- internships <= 0.50\n",
      "|   |   |   |   |   |--- cgpa <= 6.50\n",
      "|   |   |   |   |   |   |--- age <= 20.50\n",
      "|   |   |   |   |   |   |   |--- class: 0\n",
      "|   |   |   |   |   |   |--- age >  20.50\n",
      "|   |   |   |   |   |   |   |--- cgpa <= 5.50\n",
      "|   |   |   |   |   |   |   |   |--- class: 0\n",
      "|   |   |   |   |   |   |   |--- cgpa >  5.50\n",
      "|   |   |   |   |   |   |   |   |--- historyofbacklogs <= 0.50\n",
      "|   |   |   |   |   |   |   |   |   |--- age <= 22.50\n",
      "|   |   |   |   |   |   |   |   |   |   |--- age <= 21.50\n",
      "|   |   |   |   |   |   |   |   |   |   |   |--- class: 0\n",
      "|   |   |   |   |   |   |   |   |   |   |--- age >  21.50\n",
      "|   |   |   |   |   |   |   |   |   |   |   |--- class: 0\n",
      "|   |   |   |   |   |   |   |   |   |--- age >  22.50\n",
      "|   |   |   |   |   |   |   |   |   |   |--- class: 0\n",
      "|   |   |   |   |   |   |   |   |--- historyofbacklogs >  0.50\n",
      "|   |   |   |   |   |   |   |   |   |--- age <= 21.50\n",
      "|   |   |   |   |   |   |   |   |   |   |--- class: 0\n",
      "|   |   |   |   |   |   |   |   |   |--- age >  21.50\n",
      "|   |   |   |   |   |   |   |   |   |   |--- age <= 22.50\n",
      "|   |   |   |   |   |   |   |   |   |   |   |--- class: 0\n",
      "|   |   |   |   |   |   |   |   |   |   |--- age >  22.50\n",
      "|   |   |   |   |   |   |   |   |   |   |   |--- class: 1\n",
      "|   |   |   |   |   |--- cgpa >  6.50\n",
      "|   |   |   |   |   |   |--- historyofbacklogs <= 0.50\n",
      "|   |   |   |   |   |   |   |--- age <= 20.50\n",
      "|   |   |   |   |   |   |   |   |--- class: 0\n",
      "|   |   |   |   |   |   |   |--- age >  20.50\n",
      "|   |   |   |   |   |   |   |   |--- age <= 22.50\n",
      "|   |   |   |   |   |   |   |   |   |--- hostel <= 0.50\n",
      "|   |   |   |   |   |   |   |   |   |   |--- class: 0\n",
      "|   |   |   |   |   |   |   |   |   |--- hostel >  0.50\n",
      "|   |   |   |   |   |   |   |   |   |   |--- age <= 21.50\n",
      "|   |   |   |   |   |   |   |   |   |   |   |--- class: 0\n",
      "|   |   |   |   |   |   |   |   |   |   |--- age >  21.50\n",
      "|   |   |   |   |   |   |   |   |   |   |   |--- class: 0\n",
      "|   |   |   |   |   |   |   |   |--- age >  22.50\n",
      "|   |   |   |   |   |   |   |   |   |--- class: 0\n",
      "|   |   |   |   |   |   |--- historyofbacklogs >  0.50\n",
      "|   |   |   |   |   |   |   |--- age <= 20.50\n",
      "|   |   |   |   |   |   |   |   |--- class: 1\n",
      "|   |   |   |   |   |   |   |--- age >  20.50\n",
      "|   |   |   |   |   |   |   |   |--- class: 0\n",
      "|   |   |   |   |--- internships >  0.50\n",
      "|   |   |   |   |   |--- class: 0\n",
      "|   |   |--- age >  23.50\n",
      "|   |   |   |--- cgpa <= 6.50\n",
      "|   |   |   |   |--- cgpa <= 5.50\n",
      "|   |   |   |   |   |--- class: 0\n",
      "|   |   |   |   |--- cgpa >  5.50\n",
      "|   |   |   |   |   |--- class: 1\n",
      "|   |   |   |--- cgpa >  6.50\n",
      "|   |   |   |   |--- hostel <= 0.50\n",
      "|   |   |   |   |   |--- stream=electronics_and_communication <= 0.50\n",
      "|   |   |   |   |   |   |--- age <= 24.50\n",
      "|   |   |   |   |   |   |   |--- historyofbacklogs <= 0.50\n",
      "|   |   |   |   |   |   |   |   |--- stream=electrical <= 0.50\n",
      "|   |   |   |   |   |   |   |   |   |--- stream=computer_science <= 0.50\n",
      "|   |   |   |   |   |   |   |   |   |   |--- internships <= 0.50\n",
      "|   |   |   |   |   |   |   |   |   |   |   |--- truncated branch of depth 2\n",
      "|   |   |   |   |   |   |   |   |   |   |--- internships >  0.50\n",
      "|   |   |   |   |   |   |   |   |   |   |   |--- class: 1\n",
      "|   |   |   |   |   |   |   |   |   |--- stream=computer_science >  0.50\n",
      "|   |   |   |   |   |   |   |   |   |   |--- internships <= 0.50\n",
      "|   |   |   |   |   |   |   |   |   |   |   |--- class: 1\n",
      "|   |   |   |   |   |   |   |   |   |   |--- internships >  0.50\n",
      "|   |   |   |   |   |   |   |   |   |   |   |--- class: 1\n",
      "|   |   |   |   |   |   |   |   |--- stream=electrical >  0.50\n",
      "|   |   |   |   |   |   |   |   |   |--- class: 1\n",
      "|   |   |   |   |   |   |   |--- historyofbacklogs >  0.50\n",
      "|   |   |   |   |   |   |   |   |--- class: 1\n",
      "|   |   |   |   |   |   |--- age >  24.50\n",
      "|   |   |   |   |   |   |   |--- stream=electrical <= 0.50\n",
      "|   |   |   |   |   |   |   |   |--- stream=mechanical <= 0.50\n",
      "|   |   |   |   |   |   |   |   |   |--- stream=computer_science <= 0.50\n",
      "|   |   |   |   |   |   |   |   |   |   |--- internships <= 0.50\n",
      "|   |   |   |   |   |   |   |   |   |   |   |--- truncated branch of depth 2\n",
      "|   |   |   |   |   |   |   |   |   |   |--- internships >  0.50\n",
      "|   |   |   |   |   |   |   |   |   |   |   |--- truncated branch of depth 2\n",
      "|   |   |   |   |   |   |   |   |   |--- stream=computer_science >  0.50\n",
      "|   |   |   |   |   |   |   |   |   |   |--- internships <= 0.50\n",
      "|   |   |   |   |   |   |   |   |   |   |   |--- class: 0\n",
      "|   |   |   |   |   |   |   |   |   |   |--- internships >  0.50\n",
      "|   |   |   |   |   |   |   |   |   |   |   |--- truncated branch of depth 2\n",
      "|   |   |   |   |   |   |   |   |--- stream=mechanical >  0.50\n",
      "|   |   |   |   |   |   |   |   |   |--- class: 0\n",
      "|   |   |   |   |   |   |   |--- stream=electrical >  0.50\n",
      "|   |   |   |   |   |   |   |   |--- class: 0\n",
      "|   |   |   |   |   |--- stream=electronics_and_communication >  0.50\n",
      "|   |   |   |   |   |   |--- class: 0\n",
      "|   |   |   |   |--- hostel >  0.50\n",
      "|   |   |   |   |   |--- stream=computer_science <= 0.50\n",
      "|   |   |   |   |   |   |--- age <= 24.50\n",
      "|   |   |   |   |   |   |   |--- internships <= 0.50\n",
      "|   |   |   |   |   |   |   |   |--- class: 0\n",
      "|   |   |   |   |   |   |   |--- internships >  0.50\n",
      "|   |   |   |   |   |   |   |   |--- class: 0\n",
      "|   |   |   |   |   |   |--- age >  24.50\n",
      "|   |   |   |   |   |   |   |--- class: 0\n",
      "|   |   |   |   |   |--- stream=computer_science >  0.50\n",
      "|   |   |   |   |   |   |--- internships <= 0.50\n",
      "|   |   |   |   |   |   |   |--- class: 0\n",
      "|   |   |   |   |   |   |--- internships >  0.50\n",
      "|   |   |   |   |   |   |   |--- class: 1\n",
      "|   |--- internships >  1.50\n",
      "|   |   |--- stream=civil <= 0.50\n",
      "|   |   |   |--- historyofbacklogs <= 0.50\n",
      "|   |   |   |   |--- cgpa <= 5.50\n",
      "|   |   |   |   |   |--- age <= 23.00\n",
      "|   |   |   |   |   |   |--- class: 0\n",
      "|   |   |   |   |   |--- age >  23.00\n",
      "|   |   |   |   |   |   |--- hostel <= 0.50\n",
      "|   |   |   |   |   |   |   |--- class: 1\n",
      "|   |   |   |   |   |   |--- hostel >  0.50\n",
      "|   |   |   |   |   |   |   |--- class: 0\n",
      "|   |   |   |   |--- cgpa >  5.50\n",
      "|   |   |   |   |   |--- cgpa <= 6.50\n",
      "|   |   |   |   |   |   |--- gender=female <= 0.50\n",
      "|   |   |   |   |   |   |   |--- stream=mechanical <= 0.50\n",
      "|   |   |   |   |   |   |   |   |--- class: 1\n",
      "|   |   |   |   |   |   |   |--- stream=mechanical >  0.50\n",
      "|   |   |   |   |   |   |   |   |--- internships <= 2.50\n",
      "|   |   |   |   |   |   |   |   |   |--- age <= 21.50\n",
      "|   |   |   |   |   |   |   |   |   |   |--- class: 1\n",
      "|   |   |   |   |   |   |   |   |   |--- age >  21.50\n",
      "|   |   |   |   |   |   |   |   |   |   |--- class: 1\n",
      "|   |   |   |   |   |   |   |   |--- internships >  2.50\n",
      "|   |   |   |   |   |   |   |   |   |--- class: 1\n",
      "|   |   |   |   |   |   |--- gender=female >  0.50\n",
      "|   |   |   |   |   |   |   |--- age <= 22.50\n",
      "|   |   |   |   |   |   |   |   |--- class: 1\n",
      "|   |   |   |   |   |   |   |--- age >  22.50\n",
      "|   |   |   |   |   |   |   |   |--- class: 0\n",
      "|   |   |   |   |   |--- cgpa >  6.50\n",
      "|   |   |   |   |   |   |--- age <= 21.50\n",
      "|   |   |   |   |   |   |   |--- stream=computer_science <= 0.50\n",
      "|   |   |   |   |   |   |   |   |--- class: 1\n",
      "|   |   |   |   |   |   |   |--- stream=computer_science >  0.50\n",
      "|   |   |   |   |   |   |   |   |--- age <= 20.50\n",
      "|   |   |   |   |   |   |   |   |   |--- class: 1\n",
      "|   |   |   |   |   |   |   |   |--- age >  20.50\n",
      "|   |   |   |   |   |   |   |   |   |--- hostel <= 0.50\n",
      "|   |   |   |   |   |   |   |   |   |   |--- class: 1\n",
      "|   |   |   |   |   |   |   |   |   |--- hostel >  0.50\n",
      "|   |   |   |   |   |   |   |   |   |   |--- class: 1\n",
      "|   |   |   |   |   |   |--- age >  21.50\n",
      "|   |   |   |   |   |   |   |--- age <= 22.50\n",
      "|   |   |   |   |   |   |   |   |--- gender=male <= 0.50\n",
      "|   |   |   |   |   |   |   |   |   |--- stream=information_technology <= 0.50\n",
      "|   |   |   |   |   |   |   |   |   |   |--- class: 0\n",
      "|   |   |   |   |   |   |   |   |   |--- stream=information_technology >  0.50\n",
      "|   |   |   |   |   |   |   |   |   |   |--- class: 1\n",
      "|   |   |   |   |   |   |   |   |--- gender=male >  0.50\n",
      "|   |   |   |   |   |   |   |   |   |--- hostel <= 0.50\n",
      "|   |   |   |   |   |   |   |   |   |   |--- internships <= 2.50\n",
      "|   |   |   |   |   |   |   |   |   |   |   |--- truncated branch of depth 4\n",
      "|   |   |   |   |   |   |   |   |   |   |--- internships >  2.50\n",
      "|   |   |   |   |   |   |   |   |   |   |   |--- class: 0\n",
      "|   |   |   |   |   |   |   |   |   |--- hostel >  0.50\n",
      "|   |   |   |   |   |   |   |   |   |   |--- class: 0\n",
      "|   |   |   |   |   |   |   |--- age >  22.50\n",
      "|   |   |   |   |   |   |   |   |--- class: 1\n",
      "|   |   |   |--- historyofbacklogs >  0.50\n",
      "|   |   |   |   |--- cgpa <= 6.50\n",
      "|   |   |   |   |   |--- age <= 23.00\n",
      "|   |   |   |   |   |   |--- hostel <= 0.50\n",
      "|   |   |   |   |   |   |   |--- class: 0\n",
      "|   |   |   |   |   |   |--- hostel >  0.50\n",
      "|   |   |   |   |   |   |   |--- internships <= 2.50\n",
      "|   |   |   |   |   |   |   |   |--- gender=male <= 0.50\n",
      "|   |   |   |   |   |   |   |   |   |--- class: 0\n",
      "|   |   |   |   |   |   |   |   |--- gender=male >  0.50\n",
      "|   |   |   |   |   |   |   |   |   |--- class: 1\n",
      "|   |   |   |   |   |   |   |--- internships >  2.50\n",
      "|   |   |   |   |   |   |   |   |--- class: 0\n",
      "|   |   |   |   |   |--- age >  23.00\n",
      "|   |   |   |   |   |   |--- class: 1\n",
      "|   |   |   |   |--- cgpa >  6.50\n",
      "|   |   |   |   |   |--- hostel <= 0.50\n",
      "|   |   |   |   |   |   |--- age <= 21.50\n",
      "|   |   |   |   |   |   |   |--- stream=electrical <= 0.50\n",
      "|   |   |   |   |   |   |   |   |--- internships <= 2.50\n",
      "|   |   |   |   |   |   |   |   |   |--- age <= 19.50\n",
      "|   |   |   |   |   |   |   |   |   |   |--- class: 0\n",
      "|   |   |   |   |   |   |   |   |   |--- age >  19.50\n",
      "|   |   |   |   |   |   |   |   |   |   |--- age <= 20.50\n",
      "|   |   |   |   |   |   |   |   |   |   |   |--- class: 1\n",
      "|   |   |   |   |   |   |   |   |   |   |--- age >  20.50\n",
      "|   |   |   |   |   |   |   |   |   |   |   |--- truncated branch of depth 2\n",
      "|   |   |   |   |   |   |   |   |--- internships >  2.50\n",
      "|   |   |   |   |   |   |   |   |   |--- class: 0\n",
      "|   |   |   |   |   |   |   |--- stream=electrical >  0.50\n",
      "|   |   |   |   |   |   |   |   |--- class: 1\n",
      "|   |   |   |   |   |   |--- age >  21.50\n",
      "|   |   |   |   |   |   |   |--- stream=information_technology <= 0.50\n",
      "|   |   |   |   |   |   |   |   |--- age <= 22.50\n",
      "|   |   |   |   |   |   |   |   |   |--- class: 0\n",
      "|   |   |   |   |   |   |   |   |--- age >  22.50\n",
      "|   |   |   |   |   |   |   |   |   |--- class: 1\n",
      "|   |   |   |   |   |   |   |--- stream=information_technology >  0.50\n",
      "|   |   |   |   |   |   |   |   |--- class: 1\n",
      "|   |   |   |   |   |--- hostel >  0.50\n",
      "|   |   |   |   |   |   |--- class: 1\n",
      "|   |   |--- stream=civil >  0.50\n",
      "|   |   |   |--- cgpa <= 6.50\n",
      "|   |   |   |   |--- hostel <= 0.50\n",
      "|   |   |   |   |   |--- class: 0\n",
      "|   |   |   |   |--- hostel >  0.50\n",
      "|   |   |   |   |   |--- class: 1\n",
      "|   |   |   |--- cgpa >  6.50\n",
      "|   |   |   |   |--- class: 0\n",
      "|--- cgpa >  7.50\n",
      "|   |--- class: 1\n",
      "\n"
     ]
    }
   ],
   "metadata": {}
  },
  {
   "cell_type": "code",
   "execution_count": 161,
   "source": [
    "depths = [1, 2, 3, 4, 5, 6, 10, 15, 20, None]\r\n",
    "\r\n",
    "for depth in depths: \r\n",
    "    dt = DecisionTreeClassifier(max_depth=depth)\r\n",
    "    dt.fit(X_train, y_train)\r\n",
    "    \r\n",
    "    y_pred = dt.predict_proba(X_val)[:, 1]\r\n",
    "    auc = roc_auc_score(y_val, y_pred)\r\n",
    "    \r\n",
    "    print('%4s -> %.3f' % (depth, auc))"
   ],
   "outputs": [
    {
     "output_type": "stream",
     "name": "stdout",
     "text": [
      "   1 -> 0.827\n",
      "   2 -> 0.873\n",
      "   3 -> 0.892\n",
      "   4 -> 0.909\n",
      "   5 -> 0.919\n",
      "   6 -> 0.927\n",
      "  10 -> 0.923\n",
      "  15 -> 0.912\n",
      "  20 -> 0.919\n",
      "None -> 0.919\n"
     ]
    }
   ],
   "metadata": {}
  },
  {
   "cell_type": "code",
   "execution_count": 162,
   "source": [
    "scores = []\r\n",
    "\r\n",
    "for depth in [4, 5, 6]:\r\n",
    "    for s in [1, 5, 10, 15, 20, 500, 100, 200]:\r\n",
    "        dt = DecisionTreeClassifier(max_depth=depth, min_samples_leaf=s)\r\n",
    "        dt.fit(X_train, y_train)\r\n",
    "\r\n",
    "        y_pred = dt.predict_proba(X_val)[:, 1]\r\n",
    "        auc = roc_auc_score(y_val, y_pred)\r\n",
    "        \r\n",
    "        scores.append((depth, s, auc))"
   ],
   "outputs": [],
   "metadata": {}
  },
  {
   "cell_type": "code",
   "execution_count": 166,
   "source": [
    "columns = ['max_depth', 'min_samples_leaf', 'auc']\r\n",
    "df_scores = pd.DataFrame(scores, columns=columns)\r\n",
    "df_scores"
   ],
   "outputs": [
    {
     "output_type": "execute_result",
     "data": {
      "text/plain": [
       "    max_depth  min_samples_leaf       auc\n",
       "0           4                 1  0.908667\n",
       "1           4                 5  0.908667\n",
       "2           4                10  0.907836\n",
       "3           4                15  0.908690\n",
       "4           4                20  0.908690\n",
       "5           4               500  0.857064\n",
       "6           4               100  0.905219\n",
       "7           4               200  0.884191\n",
       "8           5                 1  0.919393\n",
       "9           5                 5  0.916266\n",
       "10          5                10  0.917045\n",
       "11          5                15  0.915138\n",
       "12          5                20  0.915281\n",
       "13          5               500  0.857064\n",
       "14          5               100  0.915201\n",
       "15          5               200  0.884191\n",
       "16          6                 1  0.926843\n",
       "17          6                 5  0.925216\n",
       "18          6                10  0.926488\n",
       "19          6                15  0.924272\n",
       "20          6                20  0.924357\n",
       "21          6               500  0.857064\n",
       "22          6               100  0.913574\n",
       "23          6               200  0.884191"
      ],
      "text/html": [
       "<div>\n",
       "<style scoped>\n",
       "    .dataframe tbody tr th:only-of-type {\n",
       "        vertical-align: middle;\n",
       "    }\n",
       "\n",
       "    .dataframe tbody tr th {\n",
       "        vertical-align: top;\n",
       "    }\n",
       "\n",
       "    .dataframe thead th {\n",
       "        text-align: right;\n",
       "    }\n",
       "</style>\n",
       "<table border=\"1\" class=\"dataframe\">\n",
       "  <thead>\n",
       "    <tr style=\"text-align: right;\">\n",
       "      <th></th>\n",
       "      <th>max_depth</th>\n",
       "      <th>min_samples_leaf</th>\n",
       "      <th>auc</th>\n",
       "    </tr>\n",
       "  </thead>\n",
       "  <tbody>\n",
       "    <tr>\n",
       "      <th>0</th>\n",
       "      <td>4</td>\n",
       "      <td>1</td>\n",
       "      <td>0.908667</td>\n",
       "    </tr>\n",
       "    <tr>\n",
       "      <th>1</th>\n",
       "      <td>4</td>\n",
       "      <td>5</td>\n",
       "      <td>0.908667</td>\n",
       "    </tr>\n",
       "    <tr>\n",
       "      <th>2</th>\n",
       "      <td>4</td>\n",
       "      <td>10</td>\n",
       "      <td>0.907836</td>\n",
       "    </tr>\n",
       "    <tr>\n",
       "      <th>3</th>\n",
       "      <td>4</td>\n",
       "      <td>15</td>\n",
       "      <td>0.908690</td>\n",
       "    </tr>\n",
       "    <tr>\n",
       "      <th>4</th>\n",
       "      <td>4</td>\n",
       "      <td>20</td>\n",
       "      <td>0.908690</td>\n",
       "    </tr>\n",
       "    <tr>\n",
       "      <th>5</th>\n",
       "      <td>4</td>\n",
       "      <td>500</td>\n",
       "      <td>0.857064</td>\n",
       "    </tr>\n",
       "    <tr>\n",
       "      <th>6</th>\n",
       "      <td>4</td>\n",
       "      <td>100</td>\n",
       "      <td>0.905219</td>\n",
       "    </tr>\n",
       "    <tr>\n",
       "      <th>7</th>\n",
       "      <td>4</td>\n",
       "      <td>200</td>\n",
       "      <td>0.884191</td>\n",
       "    </tr>\n",
       "    <tr>\n",
       "      <th>8</th>\n",
       "      <td>5</td>\n",
       "      <td>1</td>\n",
       "      <td>0.919393</td>\n",
       "    </tr>\n",
       "    <tr>\n",
       "      <th>9</th>\n",
       "      <td>5</td>\n",
       "      <td>5</td>\n",
       "      <td>0.916266</td>\n",
       "    </tr>\n",
       "    <tr>\n",
       "      <th>10</th>\n",
       "      <td>5</td>\n",
       "      <td>10</td>\n",
       "      <td>0.917045</td>\n",
       "    </tr>\n",
       "    <tr>\n",
       "      <th>11</th>\n",
       "      <td>5</td>\n",
       "      <td>15</td>\n",
       "      <td>0.915138</td>\n",
       "    </tr>\n",
       "    <tr>\n",
       "      <th>12</th>\n",
       "      <td>5</td>\n",
       "      <td>20</td>\n",
       "      <td>0.915281</td>\n",
       "    </tr>\n",
       "    <tr>\n",
       "      <th>13</th>\n",
       "      <td>5</td>\n",
       "      <td>500</td>\n",
       "      <td>0.857064</td>\n",
       "    </tr>\n",
       "    <tr>\n",
       "      <th>14</th>\n",
       "      <td>5</td>\n",
       "      <td>100</td>\n",
       "      <td>0.915201</td>\n",
       "    </tr>\n",
       "    <tr>\n",
       "      <th>15</th>\n",
       "      <td>5</td>\n",
       "      <td>200</td>\n",
       "      <td>0.884191</td>\n",
       "    </tr>\n",
       "    <tr>\n",
       "      <th>16</th>\n",
       "      <td>6</td>\n",
       "      <td>1</td>\n",
       "      <td>0.926843</td>\n",
       "    </tr>\n",
       "    <tr>\n",
       "      <th>17</th>\n",
       "      <td>6</td>\n",
       "      <td>5</td>\n",
       "      <td>0.925216</td>\n",
       "    </tr>\n",
       "    <tr>\n",
       "      <th>18</th>\n",
       "      <td>6</td>\n",
       "      <td>10</td>\n",
       "      <td>0.926488</td>\n",
       "    </tr>\n",
       "    <tr>\n",
       "      <th>19</th>\n",
       "      <td>6</td>\n",
       "      <td>15</td>\n",
       "      <td>0.924272</td>\n",
       "    </tr>\n",
       "    <tr>\n",
       "      <th>20</th>\n",
       "      <td>6</td>\n",
       "      <td>20</td>\n",
       "      <td>0.924357</td>\n",
       "    </tr>\n",
       "    <tr>\n",
       "      <th>21</th>\n",
       "      <td>6</td>\n",
       "      <td>500</td>\n",
       "      <td>0.857064</td>\n",
       "    </tr>\n",
       "    <tr>\n",
       "      <th>22</th>\n",
       "      <td>6</td>\n",
       "      <td>100</td>\n",
       "      <td>0.913574</td>\n",
       "    </tr>\n",
       "    <tr>\n",
       "      <th>23</th>\n",
       "      <td>6</td>\n",
       "      <td>200</td>\n",
       "      <td>0.884191</td>\n",
       "    </tr>\n",
       "  </tbody>\n",
       "</table>\n",
       "</div>"
      ]
     },
     "metadata": {},
     "execution_count": 166
    }
   ],
   "metadata": {}
  },
  {
   "cell_type": "code",
   "execution_count": 167,
   "source": [
    "df_scores_pivot = df_scores.pivot(index='min_samples_leaf', columns='max_depth', values='auc')\r\n",
    "df_scores_pivot.round(3)"
   ],
   "outputs": [
    {
     "output_type": "execute_result",
     "data": {
      "text/plain": [
       "max_depth             4      5      6\n",
       "min_samples_leaf                     \n",
       "1                 0.909  0.919  0.927\n",
       "5                 0.909  0.916  0.925\n",
       "10                0.908  0.917  0.926\n",
       "15                0.909  0.915  0.924\n",
       "20                0.909  0.915  0.924\n",
       "100               0.905  0.915  0.914\n",
       "200               0.884  0.884  0.884\n",
       "500               0.857  0.857  0.857"
      ],
      "text/html": [
       "<div>\n",
       "<style scoped>\n",
       "    .dataframe tbody tr th:only-of-type {\n",
       "        vertical-align: middle;\n",
       "    }\n",
       "\n",
       "    .dataframe tbody tr th {\n",
       "        vertical-align: top;\n",
       "    }\n",
       "\n",
       "    .dataframe thead th {\n",
       "        text-align: right;\n",
       "    }\n",
       "</style>\n",
       "<table border=\"1\" class=\"dataframe\">\n",
       "  <thead>\n",
       "    <tr style=\"text-align: right;\">\n",
       "      <th>max_depth</th>\n",
       "      <th>4</th>\n",
       "      <th>5</th>\n",
       "      <th>6</th>\n",
       "    </tr>\n",
       "    <tr>\n",
       "      <th>min_samples_leaf</th>\n",
       "      <th></th>\n",
       "      <th></th>\n",
       "      <th></th>\n",
       "    </tr>\n",
       "  </thead>\n",
       "  <tbody>\n",
       "    <tr>\n",
       "      <th>1</th>\n",
       "      <td>0.909</td>\n",
       "      <td>0.919</td>\n",
       "      <td>0.927</td>\n",
       "    </tr>\n",
       "    <tr>\n",
       "      <th>5</th>\n",
       "      <td>0.909</td>\n",
       "      <td>0.916</td>\n",
       "      <td>0.925</td>\n",
       "    </tr>\n",
       "    <tr>\n",
       "      <th>10</th>\n",
       "      <td>0.908</td>\n",
       "      <td>0.917</td>\n",
       "      <td>0.926</td>\n",
       "    </tr>\n",
       "    <tr>\n",
       "      <th>15</th>\n",
       "      <td>0.909</td>\n",
       "      <td>0.915</td>\n",
       "      <td>0.924</td>\n",
       "    </tr>\n",
       "    <tr>\n",
       "      <th>20</th>\n",
       "      <td>0.909</td>\n",
       "      <td>0.915</td>\n",
       "      <td>0.924</td>\n",
       "    </tr>\n",
       "    <tr>\n",
       "      <th>100</th>\n",
       "      <td>0.905</td>\n",
       "      <td>0.915</td>\n",
       "      <td>0.914</td>\n",
       "    </tr>\n",
       "    <tr>\n",
       "      <th>200</th>\n",
       "      <td>0.884</td>\n",
       "      <td>0.884</td>\n",
       "      <td>0.884</td>\n",
       "    </tr>\n",
       "    <tr>\n",
       "      <th>500</th>\n",
       "      <td>0.857</td>\n",
       "      <td>0.857</td>\n",
       "      <td>0.857</td>\n",
       "    </tr>\n",
       "  </tbody>\n",
       "</table>\n",
       "</div>"
      ]
     },
     "metadata": {},
     "execution_count": 167
    }
   ],
   "metadata": {}
  },
  {
   "cell_type": "code",
   "execution_count": 168,
   "source": [
    "sns.heatmap(df_scores_pivot, annot=True, fmt=\".3f\")"
   ],
   "outputs": [
    {
     "output_type": "execute_result",
     "data": {
      "text/plain": [
       "<AxesSubplot:xlabel='max_depth', ylabel='min_samples_leaf'>"
      ]
     },
     "metadata": {},
     "execution_count": 168
    },
    {
     "output_type": "display_data",
     "data": {
      "text/plain": [
       "<Figure size 432x288 with 2 Axes>"
      ],
      "image/png": "[encoded data removed]"
     },
     "metadata": {
      "needs_background": "light"
     }
    }
   ],
   "metadata": {}
  },
  {
   "cell_type": "markdown",
   "source": [
    "## Ensembles and random forest"
   ],
   "metadata": {}
  },
  {
   "cell_type": "code",
   "execution_count": 169,
   "source": [
    "from sklearn.ensemble import RandomForestClassifier"
   ],
   "outputs": [],
   "metadata": {}
  },
  {
   "cell_type": "code",
   "execution_count": 170,
   "source": [
    "scores = []\r\n",
    "\r\n",
    "for n in range(10, 201, 10):\r\n",
    "    rf = RandomForestClassifier(n_estimators=n, random_state=1)\r\n",
    "    rf.fit(X_train, y_train)\r\n",
    "\r\n",
    "    y_pred = rf.predict_proba(X_val)[:, 1]\r\n",
    "    auc = roc_auc_score(y_val, y_pred)\r\n",
    "    \r\n",
    "    scores.append((n, auc))"
   ],
   "outputs": [],
   "metadata": {}
  },
  {
   "cell_type": "code",
   "execution_count": 171,
   "source": [
    "df_scores = pd.DataFrame(scores, columns=['n_estimators', 'auc'])"
   ],
   "outputs": [],
   "metadata": {}
  },
  {
   "cell_type": "code",
   "execution_count": 172,
   "source": [
    "plt.plot(df_scores.n_estimators, df_scores.auc)"
   ],
   "outputs": [
    {
     "output_type": "execute_result",
     "data": {
      "text/plain": [
       "[<matplotlib.lines.Line2D at 0x1bda7b569c8>]"
      ]
     },
     "metadata": {},
     "execution_count": 172
    },
    {
     "output_type": "display_data",
     "data": {
      "text/plain": [
       "<Figure size 432x288 with 1 Axes>"
      ],
      "image/png": "[encoded data removed]"
     },
     "metadata": {
      "needs_background": "light"
     }
    }
   ],
   "metadata": {}
  },
  {
   "cell_type": "code",
   "execution_count": 173,
   "source": [
    "scores = []\r\n",
    "\r\n",
    "for d in [5, 10, 15]:\r\n",
    "    for n in range(10, 201, 10):\r\n",
    "        rf = RandomForestClassifier(n_estimators=n,\r\n",
    "                                    max_depth=d,\r\n",
    "                                    random_state=1)\r\n",
    "        rf.fit(X_train, y_train)\r\n",
    "\r\n",
    "        y_pred = rf.predict_proba(X_val)[:, 1]\r\n",
    "        auc = roc_auc_score(y_val, y_pred)\r\n",
    "\r\n",
    "        scores.append((d, n, auc))"
   ],
   "outputs": [],
   "metadata": {}
  },
  {
   "cell_type": "code",
   "execution_count": 174,
   "source": [
    "columns = ['max_depth', 'n_estimators', 'auc']\r\n",
    "df_scores = pd.DataFrame(scores, columns=columns)"
   ],
   "outputs": [],
   "metadata": {}
  },
  {
   "cell_type": "code",
   "execution_count": 175,
   "source": [
    "for d in [5, 10, 15]:\r\n",
    "    df_subset = df_scores[df_scores.max_depth == d]\r\n",
    "    \r\n",
    "    plt.plot(df_subset.n_estimators, df_subset.auc,\r\n",
    "             label='max_depth=%d' % d)\r\n",
    "\r\n",
    "plt.legend()"
   ],
   "outputs": [
    {
     "output_type": "execute_result",
     "data": {
      "text/plain": [
       "<matplotlib.legend.Legend at 0x1bda7c88488>"
      ]
     },
     "metadata": {},
     "execution_count": 175
    },
    {
     "output_type": "display_data",
     "data": {
      "text/plain": [
       "<Figure size 432x288 with 1 Axes>"
      ],
      "image/png": "[encoded data removed]"
     },
     "metadata": {
      "needs_background": "light"
     }
    }
   ],
   "metadata": {}
  },
  {
   "cell_type": "code",
   "execution_count": 176,
   "source": [
    "max_depth = 10"
   ],
   "outputs": [],
   "metadata": {}
  },
  {
   "cell_type": "code",
   "execution_count": 177,
   "source": [
    "scores = []\r\n",
    "\r\n",
    "for s in [1, 3, 5, 10, 50]:\r\n",
    "    for n in range(10, 201, 10):\r\n",
    "        rf = RandomForestClassifier(n_estimators=n,\r\n",
    "                                    max_depth=max_depth,\r\n",
    "                                    min_samples_leaf=s,\r\n",
    "                                    random_state=1)\r\n",
    "        rf.fit(X_train, y_train)\r\n",
    "\r\n",
    "        y_pred = rf.predict_proba(X_val)[:, 1]\r\n",
    "        auc = roc_auc_score(y_val, y_pred)\r\n",
    "\r\n",
    "        scores.append((s, n, auc))"
   ],
   "outputs": [],
   "metadata": {}
  },
  {
   "cell_type": "code",
   "execution_count": 178,
   "source": [
    "columns = ['min_samples_leaf', 'n_estimators', 'auc']\r\n",
    "df_scores = pd.DataFrame(scores, columns=columns)"
   ],
   "outputs": [],
   "metadata": {}
  },
  {
   "cell_type": "code",
   "execution_count": 179,
   "source": [
    "colors = ['black', 'blue', 'orange', 'red', 'grey']\r\n",
    "values = [1, 3, 5, 10, 50]\r\n",
    "\r\n",
    "for s, col in zip(values, colors):\r\n",
    "    df_subset = df_scores[df_scores.min_samples_leaf == s]\r\n",
    "    \r\n",
    "    plt.plot(df_subset.n_estimators, df_subset.auc,\r\n",
    "             color=col,\r\n",
    "             label='min_samples_leaf=%d' % s)\r\n",
    "\r\n",
    "plt.legend()"
   ],
   "outputs": [
    {
     "output_type": "execute_result",
     "data": {
      "text/plain": [
       "<matplotlib.legend.Legend at 0x1bda7c52e88>"
      ]
     },
     "metadata": {},
     "execution_count": 179
    },
    {
     "output_type": "display_data",
     "data": {
      "text/plain": [
       "<Figure size 432x288 with 1 Axes>"
      ],
      "image/png": "[encoded data removed]"
     },
     "metadata": {
      "needs_background": "light"
     }
    }
   ],
   "metadata": {}
  },
  {
   "cell_type": "code",
   "execution_count": 180,
   "source": [
    "min_samples_leaf = 3"
   ],
   "outputs": [],
   "metadata": {}
  },
  {
   "cell_type": "code",
   "execution_count": 181,
   "source": [
    "rf = RandomForestClassifier(n_estimators=200,\r\n",
    "                            max_depth=max_depth,\r\n",
    "                            min_samples_leaf=min_samples_leaf,\r\n",
    "                            random_state=1)\r\n",
    "rf.fit(X_train, y_train)"
   ],
   "outputs": [
    {
     "output_type": "execute_result",
     "data": {
      "text/plain": [
       "RandomForestClassifier(max_depth=10, min_samples_leaf=3, n_estimators=200,\n",
       "                       random_state=1)"
      ]
     },
     "metadata": {},
     "execution_count": 181
    }
   ],
   "metadata": {}
  },
  {
   "cell_type": "markdown",
   "source": [
    "## Gradient boosting and XGBoost"
   ],
   "metadata": {}
  },
  {
   "cell_type": "code",
   "execution_count": 182,
   "source": [
    "import xgboost as xgb"
   ],
   "outputs": [],
   "metadata": {}
  },
  {
   "cell_type": "code",
   "execution_count": 183,
   "source": [
    "features = dv.get_feature_names()\r\n",
    "dtrain = xgb.DMatrix(X_train, label=y_train, feature_names=features)\r\n",
    "dval = xgb.DMatrix(X_val, label=y_val, feature_names=features)"
   ],
   "outputs": [
    {
     "output_type": "stream",
     "name": "stderr",
     "text": [
      "c:\\python\\lib\\site-packages\\sklearn\\utils\\deprecation.py:87: FutureWarning: Function get_feature_names is deprecated; get_feature_names is deprecated in 1.0 and will be removed in 1.2. Please use get_feature_names_out instead.\n",
      "  warnings.warn(msg, category=FutureWarning)\n"
     ]
    }
   ],
   "metadata": {}
  },
  {
   "cell_type": "code",
   "execution_count": 184,
   "source": [
    "xgb_params = {\r\n",
    "    'eta': 0.3, \r\n",
    "    'max_depth': 6,\r\n",
    "    'min_child_weight': 1,\r\n",
    "    \r\n",
    "    'objective': 'binary:logistic',\r\n",
    "    'nthread': 8,\r\n",
    "    \r\n",
    "    'seed': 1,\r\n",
    "    'verbosity': 1,\r\n",
    "}\r\n",
    "\r\n",
    "model = xgb.train(xgb_params, dtrain, num_boost_round=10)"
   ],
   "outputs": [],
   "metadata": {}
  },
  {
   "cell_type": "code",
   "execution_count": 185,
   "source": [
    "y_pred = model.predict(dval)"
   ],
   "outputs": [],
   "metadata": {}
  },
  {
   "cell_type": "code",
   "execution_count": 186,
   "source": [
    "roc_auc_score(y_val, y_pred)"
   ],
   "outputs": [
    {
     "output_type": "execute_result",
     "data": {
      "text/plain": [
       "0.9348314091991936"
      ]
     },
     "metadata": {},
     "execution_count": 186
    }
   ],
   "metadata": {}
  },
  {
   "cell_type": "code",
   "execution_count": 187,
   "source": [
    "watchlist = [(dtrain, 'train'), (dval, 'val')]"
   ],
   "outputs": [],
   "metadata": {}
  },
  {
   "cell_type": "code",
   "execution_count": 188,
   "source": [
    "%%capture output\r\n",
    "\r\n",
    "xgb_params = {\r\n",
    "    'eta': 0.3, \r\n",
    "    'max_depth': 6,\r\n",
    "    'min_child_weight': 1,\r\n",
    "    \r\n",
    "    'objective': 'binary:logistic',\r\n",
    "    'eval_metric': 'auc',\r\n",
    "\r\n",
    "    'nthread': 8,\r\n",
    "    'seed': 1,\r\n",
    "    'verbosity': 1,\r\n",
    "}\r\n",
    "\r\n",
    "model = xgb.train(xgb_params, dtrain, num_boost_round=200,\r\n",
    "                  verbose_eval=5,\r\n",
    "                  evals=watchlist)"
   ],
   "outputs": [],
   "metadata": {}
  },
  {
   "cell_type": "code",
   "execution_count": 192,
   "source": [
    "s = output.stdout\r\n",
    "print(s)"
   ],
   "outputs": [
    {
     "output_type": "stream",
     "name": "stdout",
     "text": [
      "[0]\ttrain-auc:0.93065\tval-auc:0.92766\n",
      "[5]\ttrain-auc:0.94001\tval-auc:0.93455\n",
      "[10]\ttrain-auc:0.94495\tval-auc:0.93435\n",
      "[15]\ttrain-auc:0.95324\tval-auc:0.93950\n",
      "[20]\ttrain-auc:0.95676\tval-auc:0.94037\n",
      "[25]\ttrain-auc:0.96374\tval-auc:0.94760\n",
      "[30]\ttrain-auc:0.96735\tval-auc:0.94500\n",
      "[35]\ttrain-auc:0.96962\tval-auc:0.94526\n",
      "[40]\ttrain-auc:0.97140\tval-auc:0.94630\n",
      "[45]\ttrain-auc:0.97243\tval-auc:0.94581\n",
      "[50]\ttrain-auc:0.97382\tval-auc:0.94670\n",
      "[55]\ttrain-auc:0.97438\tval-auc:0.94620\n",
      "[60]\ttrain-auc:0.97489\tval-auc:0.94668\n",
      "[65]\ttrain-auc:0.97534\tval-auc:0.94596\n",
      "[70]\ttrain-auc:0.97580\tval-auc:0.94529\n",
      "[75]\ttrain-auc:0.97605\tval-auc:0.94558\n",
      "[80]\ttrain-auc:0.97666\tval-auc:0.94549\n",
      "[85]\ttrain-auc:0.97688\tval-auc:0.94556\n",
      "[90]\ttrain-auc:0.97713\tval-auc:0.94509\n",
      "[95]\ttrain-auc:0.97759\tval-auc:0.94484\n",
      "[100]\ttrain-auc:0.97792\tval-auc:0.94446\n",
      "[105]\ttrain-auc:0.97828\tval-auc:0.94485\n",
      "[110]\ttrain-auc:0.97855\tval-auc:0.94493\n",
      "[115]\ttrain-auc:0.97868\tval-auc:0.94495\n",
      "[120]\ttrain-auc:0.97884\tval-auc:0.94537\n",
      "[125]\ttrain-auc:0.97912\tval-auc:0.94592\n",
      "[130]\ttrain-auc:0.97922\tval-auc:0.94592\n",
      "[135]\ttrain-auc:0.97946\tval-auc:0.94535\n",
      "[140]\ttrain-auc:0.97962\tval-auc:0.94557\n",
      "[145]\ttrain-auc:0.97973\tval-auc:0.94511\n",
      "[150]\ttrain-auc:0.97982\tval-auc:0.94525\n",
      "[155]\ttrain-auc:0.97991\tval-auc:0.94482\n",
      "[160]\ttrain-auc:0.98008\tval-auc:0.94492\n",
      "[165]\ttrain-auc:0.98013\tval-auc:0.94509\n",
      "[170]\ttrain-auc:0.98031\tval-auc:0.94493\n",
      "[175]\ttrain-auc:0.98037\tval-auc:0.94497\n",
      "[180]\ttrain-auc:0.98064\tval-auc:0.94517\n",
      "[185]\ttrain-auc:0.98068\tval-auc:0.94496\n",
      "[190]\ttrain-auc:0.98079\tval-auc:0.94489\n",
      "[195]\ttrain-auc:0.98084\tval-auc:0.94487\n",
      "[199]\ttrain-auc:0.98099\tval-auc:0.94498\n",
      "\n"
     ]
    }
   ],
   "metadata": {}
  },
  {
   "cell_type": "code",
   "execution_count": 193,
   "source": [
    "def parse_xgb_output(output):\r\n",
    "    results = []\r\n",
    "\r\n",
    "    for line in output.stdout.strip().split('\\n'):\r\n",
    "        it_line, train_line, val_line = line.split('\\t')\r\n",
    "\r\n",
    "        it = int(it_line.strip('[]'))\r\n",
    "        train = float(train_line.split(':')[1])\r\n",
    "        val = float(val_line.split(':')[1])\r\n",
    "\r\n",
    "        results.append((it, train, val))\r\n",
    "    \r\n",
    "    columns = ['num_iter', 'train_auc', 'val_auc']\r\n",
    "    df_results = pd.DataFrame(results, columns=columns)\r\n",
    "    return df_results"
   ],
   "outputs": [],
   "metadata": {}
  },
  {
   "cell_type": "code",
   "execution_count": 194,
   "source": [
    "df_score = parse_xgb_output(output)"
   ],
   "outputs": [],
   "metadata": {}
  },
  {
   "cell_type": "code",
   "execution_count": 195,
   "source": [
    "plt.plot(df_score.num_iter, df_score.train_auc, label='train')\r\n",
    "plt.plot(df_score.num_iter, df_score.val_auc, label='val')\r\n",
    "plt.legend()"
   ],
   "outputs": [
    {
     "output_type": "execute_result",
     "data": {
      "text/plain": [
       "<matplotlib.legend.Legend at 0x1bdaa5f1f48>"
      ]
     },
     "metadata": {},
     "execution_count": 195
    },
    {
     "output_type": "display_data",
     "data": {
      "text/plain": [
       "<Figure size 432x288 with 1 Axes>"
      ],
      "image/png": "[encoded data removed]"
     },
     "metadata": {
      "needs_background": "light"
     }
    }
   ],
   "metadata": {}
  },
  {
   "cell_type": "code",
   "execution_count": 196,
   "source": [
    "plt.plot(df_score.num_iter, df_score.val_auc, label='val')\r\n",
    "plt.legend()"
   ],
   "outputs": [
    {
     "output_type": "execute_result",
     "data": {
      "text/plain": [
       "<matplotlib.legend.Legend at 0x1bdaa645c08>"
      ]
     },
     "metadata": {},
     "execution_count": 196
    },
    {
     "output_type": "display_data",
     "data": {
      "text/plain": [
       "<Figure size 432x288 with 1 Axes>"
      ],
      "image/png": "[encoded data removed]"
     },
     "metadata": {
      "needs_background": "light"
     }
    }
   ],
   "metadata": {}
  },
  {
   "cell_type": "markdown",
   "source": [
    "## Selecting final model"
   ],
   "metadata": {}
  },
  {
   "cell_type": "code",
   "execution_count": 197,
   "source": [
    "dt = DecisionTreeClassifier(max_depth=6, min_samples_leaf=15)\r\n",
    "dt.fit(X_train, y_train)"
   ],
   "outputs": [
    {
     "output_type": "execute_result",
     "data": {
      "text/plain": [
       "DecisionTreeClassifier(max_depth=6, min_samples_leaf=15)"
      ]
     },
     "metadata": {},
     "execution_count": 197
    }
   ],
   "metadata": {}
  },
  {
   "cell_type": "code",
   "execution_count": 198,
   "source": [
    "y_pred = dt.predict_proba(X_val)[:, 1]\r\n",
    "roc_auc_score(y_val, y_pred)"
   ],
   "outputs": [
    {
     "output_type": "execute_result",
     "data": {
      "text/plain": [
       "0.9242715777899945"
      ]
     },
     "metadata": {},
     "execution_count": 198
    }
   ],
   "metadata": {}
  },
  {
   "cell_type": "code",
   "execution_count": 199,
   "source": [
    "rf = RandomForestClassifier(n_estimators=200,\r\n",
    "                            max_depth=10,\r\n",
    "                            min_samples_leaf=3,\r\n",
    "                            random_state=1)\r\n",
    "rf.fit(X_train, y_train)"
   ],
   "outputs": [
    {
     "output_type": "execute_result",
     "data": {
      "text/plain": [
       "RandomForestClassifier(max_depth=10, min_samples_leaf=3, n_estimators=200,\n",
       "                       random_state=1)"
      ]
     },
     "metadata": {},
     "execution_count": 199
    }
   ],
   "metadata": {}
  },
  {
   "cell_type": "code",
   "execution_count": 205,
   "source": [
    "y_pred = rf.predict_proba(X_val)[:, 1]\r\n",
    "roc_auc_score(y_val, y_pred)"
   ],
   "outputs": [
    {
     "output_type": "execute_result",
     "data": {
      "text/plain": [
       "0.9374141011544804"
      ]
     },
     "metadata": {},
     "execution_count": 205
    }
   ],
   "metadata": {}
  },
  {
   "cell_type": "code",
   "execution_count": 201,
   "source": [
    "xgb_params = {\r\n",
    "    'eta': 0.1, \r\n",
    "    'max_depth': 3,\r\n",
    "    'min_child_weight': 1,\r\n",
    "\r\n",
    "    'objective': 'binary:logistic',\r\n",
    "    'eval_metric': 'auc',\r\n",
    "\r\n",
    "    'nthread': 8,\r\n",
    "    'seed': 1,\r\n",
    "    'verbosity': 1,\r\n",
    "}\r\n",
    "\r\n",
    "model = xgb.train(xgb_params, dtrain, num_boost_round=175)"
   ],
   "outputs": [],
   "metadata": {}
  },
  {
   "cell_type": "code",
   "execution_count": 202,
   "source": [
    "y_pred = model.predict(dval)\r\n",
    "roc_auc_score(y_val, y_pred)"
   ],
   "outputs": [
    {
     "output_type": "execute_result",
     "data": {
      "text/plain": [
       "0.9419610133773135"
      ]
     },
     "metadata": {},
     "execution_count": 202
    }
   ],
   "metadata": {}
  },
  {
   "cell_type": "code",
   "execution_count": null,
   "source": [],
   "outputs": [],
   "metadata": {}
  }
 ],
 "metadata": {
  "kernelspec": {
   "display_name": "Python 3",
   "language": "python",
   "name": "python3"
  },
  "language_info": {
   "codemirror_mode": {
    "name": "ipython",
    "version": 3
   },
   "file_extension": ".py",
   "mimetype": "text/x-python",
   "name": "python",
   "nbconvert_exporter": "python",
   "pygments_lexer": "ipython3",
   "version": "3.7.6"
  }
 },
 "nbformat": 4,
 "nbformat_minor": 4
}